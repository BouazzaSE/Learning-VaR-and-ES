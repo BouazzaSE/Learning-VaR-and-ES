{
 "cells": [
  {
   "cell_type": "markdown",
   "metadata": {},
   "source": [
    "Uncomment the following lines if running on Google Colaboratory. This will install versions of PyTorch and CuPy that work with our package, and then download the package files from the GitHub repo.\n",
    "\n",
    "Restart the runtime when prompted to in the output of the cell."
   ]
  },
  {
   "cell_type": "code",
   "execution_count": 1,
   "metadata": {},
   "outputs": [],
   "source": [
    "# !pip install torch==1.7.1+cu110 torchvision==0.8.2+cu110 torchaudio==0.7.2 -f https://download.pytorch.org/whl/torch_stable.html\n",
    "# !pip install cupy-cuda110\n",
    "# !git clone https://github.com/BouazzaSE/NeuralXVA\n",
    "# !mv NeuralXVA/* ./\n",
    "# !rm -R NeuralXVA"
   ]
  },
  {
   "cell_type": "code",
   "execution_count": 2,
   "metadata": {},
   "outputs": [],
   "source": [
    "import matplotlib.pyplot as plt\n",
    "import numpy as np\n",
    "from learning.im_estimator import IMEstimatorPortfolio\n",
    "from learning.misc import predict, predict_only_stats\n",
    "from simulation.diffusion_engine import DiffusionEngine\n",
    "import time\n",
    "import torch\n",
    "import matplotlib as mpl\n",
    "mpl.rcParams['figure.dpi'] = '100'"
   ]
  },
  {
   "cell_type": "code",
   "execution_count": 3,
   "metadata": {},
   "outputs": [],
   "source": [
    "from numba import NumbaPerformanceWarning\n",
    "import warnings\n",
    "warnings.filterwarnings('ignore', category=UserWarning)\n",
    "warnings.filterwarnings('ignore', category=NumbaPerformanceWarning)"
   ]
  },
  {
   "cell_type": "code",
   "execution_count": 4,
   "metadata": {},
   "outputs": [
    {
     "data": {
      "text/plain": [
       "<torch._C.Generator at 0x7f08b6b91eb0>"
      ]
     },
     "execution_count": 4,
     "metadata": {},
     "output_type": "execute_result"
    }
   ],
   "source": [
    "np.random.seed(0)\n",
    "torch.manual_seed(0)"
   ]
  },
  {
   "cell_type": "code",
   "execution_count": 5,
   "metadata": {},
   "outputs": [],
   "source": [
    "torch.backends.cudnn.benchmark = False # don't allow cudnn to tune for every input size\n",
    "torch.backends.cudnn.enabled = True"
   ]
  },
  {
   "cell_type": "markdown",
   "metadata": {},
   "source": [
    "## Simulation parameters"
   ]
  },
  {
   "cell_type": "markdown",
   "metadata": {},
   "source": [
    "* `num_coarse_steps`: # of coarse time-steps, *ie* steps at which we price and learn;\n",
    "* `dT`: size of a coarse time-step (uniform time-stepping), should be equal to the simulation horizon in years divided by `num_coarse_steps`;\n",
    "* `num_fine_per_coarse`: # of fine time-steps per coarse time-step, those are steps through which the numerical diffusions are stepping;\n",
    "* `dt`: should be equal to `dT/num_fine_per_coarse`;\n",
    "* `num_paths`: # of diffusion paths ($M$ in \\[1\\]);\n",
    "* `num_inner_paths`: # of inner-paths for the Nested Monte Carlo benchmark, set to `1` if no NMC benchmark is needed;\n",
    "* `num_defs_per_path`: # of default simulations given each diffusion path ($N$ in \\[1\\]);\n",
    "* `num_rates`: # of economies, each represented by a 1-factor short-rate;\n",
    "* `num_spreads`: # of counterparties + 1, with one stochastic spread for each counterparty and one for the bank itself;\n",
    "* `R`: correlation matrix, should be `2*num_rates-1+num_spreads` by `2*num_rates-1+num_spreads`;\n",
    "\n",
    "As for the order in which the stochastic diffusion factors are stored, the first `num_rates` components are the short-rates, the next `num_rates-1` are the associated cross-currency exchange rates against the reference currency (which is assumed to be the first, *ie* with id 0), and the last `num_spreads` are the stochastic intensity processes where the first one is for the bank and the rest are for the counterparties.\n",
    "\n",
    "As for the diffusion parameters, they can be set using the following correspondence with the notation in Appendix B of \\[1\\]:\n",
    "* `rates_params['a'][e]` $\\leftrightarrow a^{\\langle e\\rangle}$;\n",
    "* `rates_params['b'][e]` $\\leftrightarrow b^{\\langle e\\rangle}$;\n",
    "* `rates_params['sigma'][e]` $\\leftrightarrow \\sigma^{r, \\langle e\\rangle}$;\n",
    "* `fx_params['vol'][e]` $\\leftrightarrow \\sigma^{\\chi, \\langle e\\rangle}$;\n",
    "* `spreads_params['a'][c]` $\\leftrightarrow \\alpha^{\\langle c\\rangle}$;\n",
    "* `spreads_params['b'][c]` $\\leftrightarrow \\delta^{\\langle c\\rangle}$;\n",
    "* `spreads_params['vvol'][c]` $\\leftrightarrow \\nu^{\\langle c\\rangle}$;\n",
    "\n",
    "Finally, for the products, one can set them in their `specs` arrays below. We invite the user to see the pricing functions in `compile_cuda_diffuse_and_price` (simulation/kernels.py) for more details on how the product specifications are used.\n",
    "\n",
    "In the following, we fill the diffusion parameters and the product specs randomly.\n",
    "\n",
    "**\\[1\\]** Abbas-Turki, L., S. Crépey, and B. Saadeddine (2022). Hierarchical simulation for learning with defaults. Pre-print available on https://perso.lpsm.paris/~crepey/papers/LEARNING_FROM_DEFAULTS.pdf."
   ]
  },
  {
   "cell_type": "code",
   "execution_count": 6,
   "metadata": {},
   "outputs": [],
   "source": [
    "num_coarse_steps = 100\n",
    "dT = 0.1\n",
    "num_fine_per_coarse = 25\n",
    "dt = 0.004\n",
    "num_paths = 2**19 # preferable to go for at least around 2**22 for better results\n",
    "num_inner_paths = 1\n",
    "num_defs_per_path = 1\n",
    "num_rates = 10\n",
    "num_spreads = 2\n",
    "R = np.eye(2*num_rates-1+num_spreads, dtype=np.float32) # we set the correlation matrix to the identity matrix, although not needed\n",
    "initial_values = np.empty(2*num_rates-1+num_spreads, dtype=np.float32)\n",
    "initial_defaults = np.empty((num_spreads-1+7)//8, dtype=np.int8)\n",
    "\n",
    "# rates diffusion parameters\n",
    "rates_params = np.empty(num_rates, dtype=[('a', '<f4'), ('b', '<f4'), ('sigma', '<f4')])\n",
    "rates_params['a'] = np.random.normal(0.4, 0.03, num_rates)\n",
    "rates_params['b'] = np.random.normal(0.03, 0.001, num_rates)\n",
    "rates_params['sigma'] = np.abs(np.random.normal(0.0025, 0.00025, num_rates))\n",
    "initial_values[:num_rates] = 0.01\n",
    "\n",
    "# FX diffusion parameters\n",
    "fx_params = np.empty(num_rates-1, dtype=[('vol', '<f4')])\n",
    "fx_params['vol'] = np.abs(np.random.normal(0.25, 0.025, num_rates-1))\n",
    "initial_values[num_rates:2*num_rates-1] = 1\n",
    "\n",
    "# stochastic intensities diffusion parameters\n",
    "spreads_params = np.empty(num_spreads, dtype=[('a', '<f4'), ('b', '<f4'), ('vvol', '<f4')])\n",
    "spreads_params['a'] = np.random.normal(0.5, 0.03, num_spreads)\n",
    "spreads_params['b'] = np.random.normal(0.01, 0.001, num_spreads)\n",
    "spreads_params['vvol'] = np.abs(np.random.normal(0.0075, 0.00075, num_spreads))\n",
    "initial_values[2*num_rates-1:] = 0.01\n",
    "\n",
    "# initial default indicators\n",
    "initial_defaults[:] = 0\n",
    "\n",
    "# length of simulated path on the GPU (paths are then simulated by chunks of cDtoH_freq until maturity)\n",
    "cDtoH_freq = 20\n",
    "\n",
    "# product specs (DO NOT use the ZCs)\n",
    "num_vanillas = 0\n",
    "vanilla_specs = np.empty(num_vanillas,\n",
    "                         dtype=[('maturity', '<f4'), ('notional', '<f4'),\n",
    "                                ('strike', '<f4'), ('cpty', '<i4'),\n",
    "                                ('undl', '<i4'), ('call_put', '<b1')])\n",
    "\n",
    "num_irs = 100\n",
    "irs_specs = np.empty(num_irs,\n",
    "                     dtype=[('first_reset', '<f4'), ('reset_freq', '<f4'),\n",
    "                            ('notional', '<f4'), ('swap_rate', '<f4'),\n",
    "                            ('num_resets', '<i4'), ('cpty', '<i4'),\n",
    "                            ('undl', '<i4')])\n",
    "\n",
    "irs_specs['first_reset'] = 0.  # First reset date in the swaps\n",
    "irs_specs['reset_freq'] = 0.2  # Reset frequency\n",
    "irs_specs['notional'] = 10000. * \\\n",
    "    ((np.random.choice((-1, 1), num_irs, p=(0.5, 0.5)))\n",
    "     * np.random.choice(range(1, 11), num_irs))  # Notional of the swaps\n",
    "irs_specs['swap_rate'] = np.abs(np.random.normal(0.03, 0.001, num_irs))  # Swap rate, not needed, swaps are priced at par anyway\n",
    "irs_specs['num_resets'] = np.random.randint(6, 51, num_irs, np.int32)  # Number of resets (num_resets*reset_freq should be equal to the desired maturity)\n",
    "irs_specs['cpty'] = np.random.randint(0, num_spreads-1, num_irs, np.int32)  # Counterparty with which the swap was entered into\n",
    "irs_specs['undl'] = np.random.randint(0, num_rates-1, num_irs, np.int32)  # Underlying currency\n",
    "\n",
    "num_zcs = 0\n",
    "zcs_specs = np.empty(num_zcs,\n",
    "                     dtype=[('maturity', '<f4'), ('notional', '<f4'),\n",
    "                            ('cpty', '<i4'), ('undl', '<i4')])"
   ]
  },
  {
   "cell_type": "markdown",
   "metadata": {},
   "source": [
    "Next, we select the GPU. Should be `cuda:0` if there is only one GPU available. This is where both the simulation and the training/inference are going to be performed."
   ]
  },
  {
   "cell_type": "code",
   "execution_count": 7,
   "metadata": {},
   "outputs": [],
   "source": [
    "device = torch.device('cuda:0')"
   ]
  },
  {
   "cell_type": "markdown",
   "metadata": {},
   "source": [
    "We then instantiate the diffusion engine and the IM estimator."
   ]
  },
  {
   "cell_type": "code",
   "execution_count": 8,
   "metadata": {},
   "outputs": [
    {
     "name": "stdout",
     "output_type": "stream",
     "text": [
      "Successfully compiled all kernels.\n"
     ]
    }
   ],
   "source": [
    "diffusion_engine = DiffusionEngine(50, 50, num_coarse_steps, dT, num_fine_per_coarse, dt,\n",
    "                                   num_paths, num_inner_paths, num_defs_per_path, \n",
    "                                   num_rates, num_spreads, R, rates_params, fx_params, \n",
    "                                   spreads_params, vanilla_specs, irs_specs, zcs_specs,\n",
    "                                   initial_values, initial_defaults, cDtoH_freq, device=device.index,\n",
    "                                   no_nested_im=True, no_nested_cva=True)\n",
    "\n",
    "# selector for previous swap resets, need the states at those dates because of how the small non-Markovianity in the swap prices\n",
    "num_steps_per_reset = int((irs_specs['reset_freq'][0]+dt)/dT)\n",
    "prev_reset_arr = (np.arange(num_coarse_steps+1)-1)//num_steps_per_reset*num_steps_per_reset\n",
    "\n",
    "# IM learner\n",
    "alpha = torch.tensor(0.025, dtype=torch.float32, device=device) # corresponds to confidence level 1-alpha \n",
    "                                                                # for the VaR, which is 97.5% in this example\n",
    "im_estimator = IMEstimatorPortfolio(0, 'pay', alpha, 1, prev_reset_arr, True, False, False, \n",
    "                                                   diffusion_engine, device, 3, 6*num_rates, \n",
    "                                                   (num_defs_per_path*num_paths)//32, 16, 0.01, 0, \n",
    "                                                   reset_weights=False, linear=False, best_sol=True)"
   ]
  },
  {
   "cell_type": "markdown",
   "metadata": {},
   "source": [
    "## Training"
   ]
  },
  {
   "cell_type": "markdown",
   "metadata": {},
   "source": [
    "Creating CUDA events in order to do some timings later:"
   ]
  },
  {
   "cell_type": "code",
   "execution_count": 9,
   "metadata": {},
   "outputs": [],
   "source": [
    "with torch.cuda.device(device):\n",
    "    _evt_start = torch.cuda.Event(enable_timing=True)\n",
    "    _evt_stop = torch.cuda.Event(enable_timing=True)"
   ]
  },
  {
   "cell_type": "markdown",
   "metadata": {},
   "source": [
    "We launch a first set of simulations in order to have paths on which to train on. This will simulate the risk factors and do all the pricings at the coarse time-steps."
   ]
  },
  {
   "cell_type": "code",
   "execution_count": 10,
   "metadata": {},
   "outputs": [
    {
     "name": "stdout",
     "output_type": "stream",
     "text": [
      "cuda_diffuse_and_price elapsed time: 42483.228 ms\n",
      "Everything done in 45157.672 ms\n"
     ]
    }
   ],
   "source": [
    "_evt_start.record()\n",
    "diffusion_engine.generate_batch(fused=True, set_irs_at_par=True)\n",
    "_evt_stop.record()\n",
    "_evt_stop.synchronize()\n",
    "elapsed_time_def = _evt_start.elapsed_time(_evt_stop)\n",
    "print('Everything done in {} ms'.format(round(elapsed_time_def, 3)))"
   ]
  },
  {
   "cell_type": "markdown",
   "metadata": {},
   "source": [
    "We create a generator for the features and tell it to keep the data in CUDA memory and implicitly copy when assigning to Numpy arrays, and then we launch the training for the default indicators version."
   ]
  },
  {
   "cell_type": "code",
   "execution_count": 11,
   "metadata": {},
   "outputs": [
    {
     "name": "stdout",
     "output_type": "stream",
     "text": [
      "Training...done in 204.9 secs\n"
     ]
    }
   ],
   "source": [
    "print('Training...', end='')\n",
    "_evt_start.record()\n",
    "im_estimator.train(labels_as_cuda_tensors=True)\n",
    "_evt_stop.record()\n",
    "_evt_stop.synchronize()\n",
    "elapsed_time_def = _evt_start.elapsed_time(_evt_stop)/1000\n",
    "print('done in {} secs'.format(round(elapsed_time_def, 2)))"
   ]
  },
  {
   "cell_type": "markdown",
   "metadata": {},
   "source": [
    "At this point, a Neural Network estimator has been trained and the weights for any time-step `i` have been stored in the `.saved_states[i]`, *ie* if one wants to look at the parameters at time-step 20:"
   ]
  },
  {
   "cell_type": "code",
   "execution_count": 12,
   "metadata": {},
   "outputs": [
    {
     "data": {
      "text/plain": [
       "(True,\n",
       " (OrderedDict([('h.0.W',\n",
       "                tensor([[-0.4888,  1.3725, -0.7091,  ..., -0.4046, -0.1107, -0.4132],\n",
       "                        [-0.4630, -0.4389, -0.5513,  ...,  1.1471, -0.5308,  0.3496],\n",
       "                        [-1.0356, -1.9978,  0.6267,  ...,  0.0585,  1.8700,  0.3822],\n",
       "                        ...,\n",
       "                        [ 0.3627,  0.3261, -0.7545,  ...,  0.8386,  0.0722, -1.1304],\n",
       "                        [ 0.8868,  1.4725,  1.7477,  ..., -1.0291, -1.3300,  1.9255],\n",
       "                        [ 1.2166, -2.0393, -0.4056,  ..., -1.8730, -0.8137,  0.2943]],\n",
       "                       device='cuda:0')),\n",
       "               ('h.0.b',\n",
       "                tensor([[ -2.1442,  -2.9001,  -3.4251,  -9.9187,  -1.6582,   2.6159,  -0.3097,\n",
       "                          -8.2062,   2.8332,  -7.6555,  -1.6873,  -1.2114,  -7.4928,  -3.4604,\n",
       "                          -2.3024,  -6.0964,  -4.6285,  -4.6055,  -4.9549,  -3.7753, -10.1262,\n",
       "                          -8.0562,  -4.8172,  -2.6844,   0.0473,  -5.2569,  -2.2215,  -5.8391,\n",
       "                          -2.1326,  -1.4901,  -4.8935,  -3.9558,  -5.1681,  -5.2468,   0.3111,\n",
       "                          -8.1895,   2.2881,   1.7805,  -2.8077,  -0.2733,  -6.1063,  -4.8556,\n",
       "                          -5.6700,  -3.5548,  -1.1759,  -3.7684,  -3.5217,  -1.6766,  -2.3109,\n",
       "                          -9.8115,  -2.3629,   0.4024,  -1.4041,  -4.9766,  -3.7355,  -6.1385,\n",
       "                          -3.0086,  -1.7920,  -2.2174,  -4.2836]], device='cuda:0')),\n",
       "               ('h.1.W',\n",
       "                tensor([[-0.2186,  0.4798, -0.7002,  ..., -1.6792,  0.4958, -3.7482],\n",
       "                        [-1.5503, -1.0783,  0.4099,  ..., -1.8658, -0.3018, -0.2775],\n",
       "                        [-0.9811, -1.4618, -1.3696,  ..., -1.8903, -1.2099, -0.3986],\n",
       "                        ...,\n",
       "                        [ 0.3493, -1.3394, -0.5876,  ..., -2.7727, -0.7190,  0.1587],\n",
       "                        [-1.2384, -3.8825, -2.6930,  ..., -0.8465, -1.8133,  0.1538],\n",
       "                        [-0.5429, -2.0320, -1.6172,  ..., -0.2351, -0.1212, -0.4358]],\n",
       "                       device='cuda:0')),\n",
       "               ('h.1.b',\n",
       "                tensor([[-0.0837, -0.9821, -0.3365, -0.4262, -0.3341, -0.3269, -0.0951, -1.2934,\n",
       "                         -0.9170,  0.2189,  0.2557, -0.6914, -1.9983, -0.9349, -0.2135, -0.4497,\n",
       "                         -1.8012,  0.1380,  0.9709, -0.6792,  0.2134, -0.2411, -0.3669, -0.7742,\n",
       "                          0.0538,  0.0281, -0.3628, -1.0832, -0.5042,  0.1914, -2.6589,  0.9983,\n",
       "                         -2.6772, -0.0725, -0.9855, -0.9504, -0.9938,  0.6062, -0.8830, -0.8630,\n",
       "                         -0.3288, -0.8638, -0.3927, -0.6537, -0.6213, -2.9908, -0.0884, -0.2261,\n",
       "                         -1.0822, -0.2642,  0.6419, -0.5534, -1.4659,  1.9462, -0.9683, -0.4716,\n",
       "                         -0.6558, -0.3952, -0.4440, -2.3900]], device='cuda:0')),\n",
       "               ('h.2.W',\n",
       "                tensor([[ 0.2596, -0.1309, -0.1197,  ..., -0.1645,  0.0012, -0.1950],\n",
       "                        [-0.0411, -0.1939, -0.6942,  ..., -0.2508, -0.2087,  0.3289],\n",
       "                        [-0.1125, -0.0967,  0.1610,  ...,  0.2651, -0.4099, -0.2520],\n",
       "                        ...,\n",
       "                        [ 0.0997,  0.1084, -0.2444,  ...,  0.1866, -0.1317, -0.3144],\n",
       "                        [-0.1048, -0.0351, -0.0544,  ..., -0.2323, -0.1620, -0.1319],\n",
       "                        [-0.2183, -0.1362, -0.0121,  ..., -0.3917, -0.0512, -0.0149]],\n",
       "                       device='cuda:0')),\n",
       "               ('h.2.b',\n",
       "                tensor([[-4.1721, -3.5652, -2.5991, -4.4604, -3.0686, -3.9698, -5.0328, -4.3337,\n",
       "                         -3.3504, -4.2964,  0.9054, -3.9821, -2.3565, -2.7981, -3.6120, -3.8700,\n",
       "                         -2.4459, -1.0986, -3.4408, -3.1319, -2.6717, -2.8416, -4.3833, -4.2931,\n",
       "                         -0.2276, -4.1271, -1.6960, -3.1391, -4.8722, -4.3634, -4.2333,  0.7865,\n",
       "                         -4.0083, -2.8318, -3.2349, -2.4312, -3.0309,  0.3940, -3.5043, -4.4638,\n",
       "                         -2.9552, -0.8087, -3.8063, -4.1112, -4.6032, -3.3455, -2.7990, -2.3024,\n",
       "                         -2.1711, -1.7940, -4.0995, -3.3503, -1.2859, -2.3573, -4.2757, -3.8653,\n",
       "                         -1.9173, -3.1194, -4.1562, -0.3941]], device='cuda:0')),\n",
       "               ('o.W',\n",
       "                tensor([[-0.0340],\n",
       "                        [ 0.1142],\n",
       "                        [ 0.0250],\n",
       "                        [ 0.1549],\n",
       "                        [-0.0080],\n",
       "                        [ 0.0855],\n",
       "                        [-0.1897],\n",
       "                        [ 0.1179],\n",
       "                        [ 0.1309],\n",
       "                        [ 0.1394],\n",
       "                        [-0.1036],\n",
       "                        [ 0.0085],\n",
       "                        [ 0.1602],\n",
       "                        [ 0.0962],\n",
       "                        [ 0.5281],\n",
       "                        [ 0.0274],\n",
       "                        [ 0.1119],\n",
       "                        [-0.2592],\n",
       "                        [ 0.1093],\n",
       "                        [ 0.1839],\n",
       "                        [ 0.2268],\n",
       "                        [ 0.1452],\n",
       "                        [ 0.1172],\n",
       "                        [-0.0626],\n",
       "                        [ 0.1395],\n",
       "                        [ 0.1884],\n",
       "                        [-0.0959],\n",
       "                        [ 0.1166],\n",
       "                        [ 0.1364],\n",
       "                        [ 0.0303],\n",
       "                        [-0.0771],\n",
       "                        [ 0.1213],\n",
       "                        [-0.0203],\n",
       "                        [ 0.1979],\n",
       "                        [ 0.1497],\n",
       "                        [ 0.0076],\n",
       "                        [ 0.2524],\n",
       "                        [ 0.1608],\n",
       "                        [ 0.2536],\n",
       "                        [ 0.1297],\n",
       "                        [ 0.1068],\n",
       "                        [ 0.0404],\n",
       "                        [ 0.1172],\n",
       "                        [ 0.1284],\n",
       "                        [ 0.0412],\n",
       "                        [ 0.1526],\n",
       "                        [ 0.1091],\n",
       "                        [-0.0968],\n",
       "                        [ 0.0478],\n",
       "                        [ 0.0416],\n",
       "                        [ 0.0448],\n",
       "                        [ 0.1917],\n",
       "                        [ 0.3534],\n",
       "                        [ 0.0531],\n",
       "                        [ 0.1690],\n",
       "                        [ 0.0475],\n",
       "                        [ 0.1811],\n",
       "                        [ 0.2591],\n",
       "                        [ 0.0212],\n",
       "                        [-0.1807]], device='cuda:0')),\n",
       "               ('o.b', tensor([[1.6655]], device='cuda:0')),\n",
       "               ('o.a', tensor(False, device='cuda:0')),\n",
       "               ('o.c', tensor(0., device='cuda:0'))]),\n",
       "  {'state': {0: {'step': tensor(39872.),\n",
       "     'exp_avg': tensor([[-5.4449e-08, -3.0938e-06, -5.9402e-06,  ...,  2.3960e-06,\n",
       "              -1.3987e-06, -7.6145e-07],\n",
       "             [-1.6738e-06, -1.9923e-06,  1.4507e-06,  ...,  1.5572e-06,\n",
       "               3.2936e-07, -9.7413e-07],\n",
       "             [ 2.9941e-07, -1.2418e-06, -5.3142e-07,  ..., -1.4979e-07,\n",
       "              -3.4641e-06,  1.7301e-06],\n",
       "             ...,\n",
       "             [ 2.1697e-07, -1.7607e-07,  7.6434e-07,  ..., -2.6787e-06,\n",
       "               1.3533e-07, -2.7585e-06],\n",
       "             [-2.8952e-07, -3.9130e-07, -2.2321e-06,  ...,  1.0895e-06,\n",
       "              -8.7505e-07,  1.2742e-06],\n",
       "             [-5.0363e-07,  2.8342e-07,  3.3079e-07,  ..., -4.5349e-07,\n",
       "              -8.6427e-07,  2.7535e-07]], device='cuda:0'),\n",
       "     'exp_avg_sq': tensor([[3.8224e-11, 4.0027e-11, 5.5318e-11,  ..., 3.5028e-11, 2.5861e-11,\n",
       "              4.1873e-11],\n",
       "             [4.2721e-11, 5.1416e-11, 5.2586e-11,  ..., 4.1992e-11, 3.7189e-11,\n",
       "              3.8484e-11],\n",
       "             [4.0627e-11, 3.9950e-11, 7.1112e-11,  ..., 3.5908e-11, 4.1193e-11,\n",
       "              3.9212e-11],\n",
       "             ...,\n",
       "             [5.1714e-11, 5.3169e-11, 6.3817e-11,  ..., 3.9923e-11, 4.4014e-11,\n",
       "              4.0793e-11],\n",
       "             [3.9490e-11, 7.1306e-11, 5.8412e-11,  ..., 3.7265e-11, 4.1888e-11,\n",
       "              5.0964e-11],\n",
       "             [3.6220e-11, 4.0215e-11, 5.9205e-11,  ..., 3.2944e-11, 2.6102e-11,\n",
       "              3.8216e-11]], device='cuda:0')},\n",
       "    1: {'step': tensor(39872.),\n",
       "     'exp_avg': tensor([[ 4.9238e-07, -2.7887e-06, -6.7953e-07,  5.7950e-06, -1.8202e-06,\n",
       "              -2.6856e-06,  2.9259e-07, -3.7504e-06, -3.3003e-06,  2.4541e-07,\n",
       "              -3.4257e-06, -2.0696e-06, -8.1454e-07,  9.2241e-07, -9.2123e-07,\n",
       "               8.5815e-07, -7.9256e-08, -9.0943e-07, -1.3248e-06,  2.0391e-06,\n",
       "              -7.7305e-07, -1.3578e-07, -2.0017e-06, -3.6860e-06, -3.8372e-06,\n",
       "               1.2254e-06,  4.7168e-07, -1.0343e-06, -1.8911e-06,  2.0228e-06,\n",
       "              -1.4449e-06,  1.7408e-06,  9.6079e-07, -1.4713e-06, -2.5531e-06,\n",
       "               5.3115e-06, -1.7484e-06, -4.3341e-08,  2.1217e-06, -1.4363e-06,\n",
       "               3.5294e-06, -2.9541e-06, -3.4110e-06, -3.4306e-08, -3.1956e-06,\n",
       "               1.5215e-06, -2.3584e-07, -1.4356e-07, -7.7615e-07,  2.9145e-07,\n",
       "               9.4398e-07,  3.5557e-06, -1.9081e-07, -1.2385e-06,  1.0730e-06,\n",
       "              -4.6365e-08,  1.0284e-06, -1.0717e-06, -1.9326e-06,  1.7924e-06]],\n",
       "            device='cuda:0'),\n",
       "     'exp_avg_sq': tensor([[7.6924e-11, 5.8330e-11, 7.7257e-11, 7.7910e-11, 2.0866e-10, 2.7421e-10,\n",
       "              5.3567e-11, 1.5977e-10, 4.5211e-10, 3.0621e-11, 4.6549e-11, 1.1288e-10,\n",
       "              2.1239e-11, 8.9650e-11, 1.7920e-11, 1.3905e-10, 5.4452e-11, 2.9969e-11,\n",
       "              4.7841e-11, 3.5575e-11, 8.2323e-11, 9.1094e-11, 9.0279e-11, 4.1524e-11,\n",
       "              3.0594e-10, 2.8625e-11, 4.6174e-11, 3.3192e-11, 4.2962e-11, 2.4971e-10,\n",
       "              5.4380e-11, 1.8495e-10, 6.4980e-11, 2.7905e-11, 6.2990e-11, 9.7619e-11,\n",
       "              7.8247e-10, 8.2537e-10, 4.8468e-11, 1.0496e-10, 7.0514e-11, 8.1948e-11,\n",
       "              5.9997e-11, 2.3857e-11, 1.1095e-10, 2.8182e-11, 1.4971e-11, 7.6344e-11,\n",
       "              2.6083e-10, 1.2383e-11, 7.2339e-11, 3.9292e-10, 2.6661e-11, 2.8161e-11,\n",
       "              6.9826e-11, 5.5824e-11, 2.8781e-11, 4.8882e-11, 3.8062e-11, 4.9299e-11]],\n",
       "            device='cuda:0')},\n",
       "    2: {'step': tensor(39872.),\n",
       "     'exp_avg': tensor([[ 1.0140e-12,  5.1408e-07, -3.2119e-13,  ...,  3.6136e-16,\n",
       "               6.9679e-14, -2.4223e-07],\n",
       "             [ 1.0972e-13,  8.2394e-07,  1.1267e-14,  ...,  3.1435e-16,\n",
       "               4.1603e-15,  1.0264e-06],\n",
       "             [ 2.2294e-12,  1.7166e-06,  3.2445e-16,  ...,  8.0939e-16,\n",
       "              -2.9708e-16,  5.7071e-07],\n",
       "             ...,\n",
       "             [ 1.9693e-13, -7.7654e-08,  3.3567e-13,  ...,  1.9521e-15,\n",
       "               2.6884e-14,  6.7221e-07],\n",
       "             [ 1.3821e-13,  5.6219e-07, -6.8537e-16,  ...,  1.3052e-15,\n",
       "              -1.0740e-14, -2.0847e-06],\n",
       "             [ 1.7211e-12, -3.2795e-08, -9.1229e-16,  ...,  2.2648e-17,\n",
       "               6.9949e-14, -8.0377e-08]], device='cuda:0'),\n",
       "     'exp_avg_sq': tensor([[6.0696e-17, 2.1323e-11, 4.2240e-18,  ..., 3.9835e-20, 5.6232e-21,\n",
       "              3.6720e-13],\n",
       "             [1.8437e-18, 1.0161e-10, 1.0577e-14,  ..., 6.1844e-19, 4.2738e-21,\n",
       "              4.6635e-11],\n",
       "             [9.3186e-18, 1.1765e-11, 9.2071e-18,  ..., 3.2008e-18, 6.7812e-23,\n",
       "              9.8395e-12],\n",
       "             ...,\n",
       "             [2.0949e-14, 9.4149e-12, 1.3266e-17,  ..., 2.5986e-19, 6.5890e-23,\n",
       "              6.3121e-11],\n",
       "             [7.3165e-19, 4.3109e-12, 2.8911e-18,  ..., 5.1208e-16, 1.8044e-23,\n",
       "              7.9886e-11],\n",
       "             [4.4714e-18, 1.4967e-11, 2.6676e-18,  ..., 1.0417e-20, 1.8766e-21,\n",
       "              1.2750e-12]], device='cuda:0')},\n",
       "    3: {'step': tensor(39872.),\n",
       "     'exp_avg': tensor([[ 1.4567e-11,  7.6439e-07, -1.4482e-13,  1.8061e-12,  9.8105e-19,\n",
       "               6.1827e-12, -6.8841e-23, -1.3378e-07,  1.7093e-13,  2.5821e-11,\n",
       "               3.6478e-12,  6.0962e-14,  2.7971e-07,  4.8678e-12,  4.4106e-11,\n",
       "               5.6710e-12,  1.8571e-10,  1.3212e-12,  1.2942e-08, -1.1421e-12,\n",
       "               6.6664e-12,  7.9983e-12,  4.7314e-12,  3.8857e-13,  8.6512e-12,\n",
       "               7.1339e-18,  2.7381e-14,  7.0741e-13,  2.3134e-14,  1.5567e-11,\n",
       "               1.4683e-11,  2.0060e-06,  3.1260e-07,  2.3320e-12,  3.0144e-11,\n",
       "               2.1592e-07,  1.7320e-12,  1.5575e-10,  3.4353e-11, -1.9061e-12,\n",
       "               1.6737e-12,  1.0313e-10, -3.7414e-12,  5.7659e-13,  9.2888e-11,\n",
       "               2.0915e-07,  1.0924e-11,  5.8076e-13, -1.3102e-07,  1.6497e-12,\n",
       "               2.2544e-09, -1.6748e-12,  1.4735e-06, -5.4324e-07, -1.4286e-11,\n",
       "               7.5785e-14,  1.6942e-12,  7.0701e-15,  1.2078e-13, -1.3054e-07]],\n",
       "            device='cuda:0'),\n",
       "     'exp_avg_sq': tensor([[7.5994e-16, 4.2590e-12, 4.8264e-17, 2.1853e-15, 2.7326e-17, 1.6495e-18,\n",
       "              3.7168e-19, 7.9563e-12, 6.1484e-16, 6.8473e-16, 9.3551e-15, 1.1782e-21,\n",
       "              2.7099e-12, 2.2871e-19, 2.7112e-18, 1.5329e-16, 1.3876e-13, 4.1577e-15,\n",
       "              3.4226e-14, 2.6529e-20, 1.1781e-18, 1.1249e-17, 1.2678e-22, 5.3016e-19,\n",
       "              2.1519e-17, 1.0870e-19, 2.5989e-18, 4.4909e-18, 7.1015e-19, 2.2625e-18,\n",
       "              1.5599e-16, 7.0010e-10, 8.9725e-12, 1.9576e-21, 1.0091e-20, 2.1530e-12,\n",
       "              2.5955e-19, 7.0706e-15, 7.0686e-19, 1.4670e-14, 1.1815e-21, 2.9982e-15,\n",
       "              9.2792e-22, 2.1449e-16, 1.0838e-15, 1.5995e-12, 3.6372e-17, 1.7301e-22,\n",
       "              6.9748e-12, 6.7836e-21, 6.2161e-13, 1.4092e-16, 9.9340e-12, 4.3661e-10,\n",
       "              3.4267e-14, 1.4307e-22, 2.7035e-20, 1.2310e-16, 7.0393e-23, 1.5606e-12]],\n",
       "            device='cuda:0')},\n",
       "    4: {'step': tensor(39872.),\n",
       "     'exp_avg': tensor([[-2.1549e-23,  1.5926e-20,  6.7169e-21,  ...,  1.2929e-20,\n",
       "               3.2085e-22, -2.5511e-18],\n",
       "             [-5.9959e-14,  1.1570e-11,  8.0465e-13,  ...,  2.6127e-11,\n",
       "               6.8289e-13, -2.6639e-08],\n",
       "             [-4.5880e-32,  9.1763e-25,  4.9521e-30,  ...,  8.7533e-26,\n",
       "               1.6614e-26, -5.6846e-22],\n",
       "             ...,\n",
       "             [-2.0010e-27,  3.9469e-24,  1.0419e-24,  ...,  3.1679e-24,\n",
       "               3.0586e-26, -2.4288e-19],\n",
       "             [ 1.2948e-22,  1.6697e-19,  6.9753e-20,  ...,  2.4621e-19,\n",
       "               6.8651e-21, -3.2241e-17],\n",
       "             [-1.1891e-16,  1.6864e-12,  7.4775e-13,  ...,  1.9451e-14,\n",
       "               1.4902e-14, -6.7201e-10]], device='cuda:0'),\n",
       "     'exp_avg_sq': tensor([[2.1966e-25, 4.9428e-24, 1.1060e-24,  ..., 3.8142e-24, 1.6752e-25,\n",
       "              2.5351e-23],\n",
       "             [1.5083e-19, 4.2466e-19, 6.0308e-20,  ..., 6.0799e-19, 3.3361e-20,\n",
       "              5.0698e-12],\n",
       "             [8.2614e-25, 1.6071e-23, 6.7646e-24,  ..., 2.7067e-23, 5.7763e-25,\n",
       "              1.3128e-21],\n",
       "             ...,\n",
       "             [4.6574e-24, 3.1357e-23, 7.4551e-22,  ..., 6.4458e-24, 3.5539e-25,\n",
       "              1.5378e-21],\n",
       "             [6.6355e-25, 1.5635e-23, 3.6531e-24,  ..., 1.2282e-23, 5.2290e-25,\n",
       "              8.8353e-23],\n",
       "             [1.4211e-17, 3.2116e-18, 2.2113e-12,  ..., 1.6284e-18, 6.4466e-18,\n",
       "              1.1809e-11]], device='cuda:0')},\n",
       "    5: {'step': tensor(39872.),\n",
       "     'exp_avg': tensor([[-1.0545e-11,  1.4440e-08,  9.9263e-09,  5.6673e-09,  3.4524e-09,\n",
       "               9.9005e-09, -5.1282e-09,  8.8784e-09,  7.7943e-08,  4.5578e-09,\n",
       "              -3.9671e-07,  2.5125e-09,  3.5786e-08,  1.9338e-08,  4.2777e-08,\n",
       "               3.2684e-09,  2.9852e-08, -4.5788e-07,  8.1741e-09,  2.6558e-08,\n",
       "               7.0029e-08,  2.8866e-08,  1.2984e-08, -1.6608e-09,  3.4018e-07,\n",
       "               2.0798e-08, -1.4551e-05,  2.4558e-08,  4.1476e-09,  2.4992e-09,\n",
       "              -5.7499e-09, -1.5390e-05, -1.1823e-09,  2.3647e-08,  2.5162e-08,\n",
       "               1.0702e-08,  6.0249e-08,  5.3420e-07,  3.5537e-08,  4.1213e-09,\n",
       "               1.7528e-08,  3.5456e-08,  5.1319e-09,  1.9813e-08,  3.6442e-09,\n",
       "               2.4752e-08,  2.4261e-08, -9.9092e-09,  4.2445e-08,  3.5145e-08,\n",
       "               4.7872e-09,  5.1465e-08,  7.8602e-08,  2.0554e-08,  9.9899e-09,\n",
       "               7.4113e-09,  2.8656e-08,  7.1801e-08,  2.5517e-09, -7.0171e-07]],\n",
       "            device='cuda:0'),\n",
       "     'exp_avg_sq': tensor([[3.2066e-16, 1.3755e-14, 3.0613e-14, 4.0154e-15, 8.6441e-15, 2.4858e-14,\n",
       "              2.8371e-12, 1.0616e-14, 1.3096e-13, 1.7074e-14, 1.9755e-12, 3.6896e-15,\n",
       "              8.0959e-14, 3.0712e-14, 1.1838e-13, 1.2164e-15, 4.1730e-14, 1.7324e-12,\n",
       "              2.0954e-14, 4.7560e-14, 9.5405e-14, 3.5060e-14, 1.6881e-14, 5.5915e-16,\n",
       "              3.3861e-12, 2.6870e-14, 7.3462e-09, 9.3261e-14, 1.2418e-14, 1.0561e-14,\n",
       "              2.1238e-14, 3.0189e-08, 1.5720e-14, 7.0472e-14, 1.7336e-14, 1.3724e-13,\n",
       "              8.0272e-14, 2.2236e-12, 3.1781e-14, 1.1139e-14, 1.0066e-14, 8.6657e-13,\n",
       "              1.6799e-14, 1.3049e-14, 6.9375e-16, 1.2877e-14, 2.6688e-14, 1.7341e-14,\n",
       "              3.5270e-13, 6.0232e-13, 5.3235e-15, 1.2941e-13, 1.3822e-11, 3.9507e-14,\n",
       "              8.4260e-15, 1.3418e-15, 2.2147e-13, 7.6384e-14, 2.5126e-15, 2.9645e-12]],\n",
       "            device='cuda:0')},\n",
       "    6: {'step': tensor(39872.),\n",
       "     'exp_avg': tensor([[ 4.1064e-08],\n",
       "             [ 1.1972e-07],\n",
       "             [ 1.3957e-07],\n",
       "             [ 3.3782e-08],\n",
       "             [ 8.7200e-08],\n",
       "             [ 1.0746e-07],\n",
       "             [ 2.7077e-08],\n",
       "             [ 7.8017e-08],\n",
       "             [ 7.8853e-07],\n",
       "             [ 3.2107e-08],\n",
       "             [ 6.7651e-06],\n",
       "             [ 7.1950e-08],\n",
       "             [ 2.9831e-07],\n",
       "             [ 1.9219e-07],\n",
       "             [ 8.0474e-08],\n",
       "             [ 5.2387e-08],\n",
       "             [ 3.3355e-07],\n",
       "             [ 2.1538e-06],\n",
       "             [ 7.1266e-08],\n",
       "             [ 1.3658e-07],\n",
       "             [ 3.8879e-07],\n",
       "             [ 2.2989e-07],\n",
       "             [ 1.3608e-07],\n",
       "             [ 5.3447e-08],\n",
       "             [ 2.8250e-06],\n",
       "             [ 2.3876e-07],\n",
       "             [ 1.2805e-04],\n",
       "             [ 2.1536e-07],\n",
       "             [ 3.0127e-08],\n",
       "             [ 6.9133e-08],\n",
       "             [ 8.6022e-08],\n",
       "             [-1.3258e-03],\n",
       "             [ 8.4048e-08],\n",
       "             [ 1.8170e-07],\n",
       "             [ 2.3584e-07],\n",
       "             [ 3.7206e-07],\n",
       "             [ 2.5502e-07],\n",
       "             [-1.1149e-06],\n",
       "             [ 1.3899e-07],\n",
       "             [ 3.0380e-08],\n",
       "             [ 1.7181e-07],\n",
       "             [ 1.2257e-06],\n",
       "             [ 4.0848e-08],\n",
       "             [ 1.4865e-07],\n",
       "             [ 7.0928e-08],\n",
       "             [ 1.8561e-07],\n",
       "             [ 1.9998e-07],\n",
       "             [ 2.0738e-07],\n",
       "             [ 6.9270e-07],\n",
       "             [ 6.7024e-07],\n",
       "             [ 7.6731e-08],\n",
       "             [ 4.3440e-07],\n",
       "             [ 1.5217e-07],\n",
       "             [ 2.6026e-07],\n",
       "             [ 5.6932e-08],\n",
       "             [ 9.5603e-08],\n",
       "             [ 1.1100e-07],\n",
       "             [ 2.7632e-07],\n",
       "             [ 9.4862e-08],\n",
       "             [ 5.3521e-06]], device='cuda:0'),\n",
       "     'exp_avg_sq': tensor([[8.9585e-14],\n",
       "             [1.1709e-11],\n",
       "             [3.0194e-12],\n",
       "             [3.8438e-13],\n",
       "             [7.7126e-13],\n",
       "             [3.5336e-12],\n",
       "             [3.0443e-10],\n",
       "             [1.0899e-11],\n",
       "             [1.9107e-09],\n",
       "             [1.9231e-11],\n",
       "             [7.2231e-10],\n",
       "             [2.1821e-13],\n",
       "             [2.2624e-12],\n",
       "             [3.7778e-11],\n",
       "             [2.7030e-11],\n",
       "             [1.6737e-13],\n",
       "             [1.4829e-10],\n",
       "             [4.3732e-11],\n",
       "             [1.7336e-11],\n",
       "             [1.1323e-11],\n",
       "             [1.1615e-10],\n",
       "             [5.5909e-12],\n",
       "             [1.5756e-11],\n",
       "             [7.9179e-14],\n",
       "             [1.4914e-10],\n",
       "             [1.0885e-11],\n",
       "             [7.6611e-06],\n",
       "             [1.7833e-10],\n",
       "             [1.5111e-11],\n",
       "             [2.4714e-12],\n",
       "             [6.4755e-12],\n",
       "             [7.9799e-05],\n",
       "             [5.3981e-12],\n",
       "             [2.8166e-10],\n",
       "             [3.5639e-12],\n",
       "             [1.2030e-11],\n",
       "             [3.8455e-11],\n",
       "             [9.9900e-09],\n",
       "             [5.2138e-11],\n",
       "             [1.7926e-12],\n",
       "             [8.4131e-13],\n",
       "             [3.1195e-10],\n",
       "             [5.1296e-12],\n",
       "             [2.8296e-12],\n",
       "             [3.5134e-13],\n",
       "             [1.4640e-12],\n",
       "             [1.3791e-11],\n",
       "             [3.7250e-12],\n",
       "             [2.1836e-11],\n",
       "             [1.1616e-10],\n",
       "             [3.8223e-13],\n",
       "             [6.1934e-11],\n",
       "             [1.4357e-10],\n",
       "             [9.3926e-12],\n",
       "             [1.0140e-12],\n",
       "             [1.6427e-13],\n",
       "             [4.9525e-12],\n",
       "             [3.7296e-11],\n",
       "             [3.2778e-12],\n",
       "             [1.6523e-10]], device='cuda:0')},\n",
       "    7: {'step': tensor(39872.),\n",
       "     'exp_avg': tensor([[-3.2408e-05]], device='cuda:0'),\n",
       "     'exp_avg_sq': tensor([[4.6118e-06]], device='cuda:0')}},\n",
       "   'param_groups': [{'lr': 0.01,\n",
       "     'betas': (0.9, 0.999),\n",
       "     'eps': 1e-08,\n",
       "     'weight_decay': 0,\n",
       "     'amsgrad': False,\n",
       "     'maximize': False,\n",
       "     'foreach': None,\n",
       "     'capturable': False,\n",
       "     'params': [0, 1, 2, 3, 4, 5, 6, 7]}]},\n",
       "  array([0.02200924, 0.02204592, 0.02197212, 0.02222359, 0.02223939,\n",
       "         0.02065604, 0.02237986, 0.02082994, 0.02113234, 0.02075762,\n",
       "         1.0010116 , 0.9997835 , 0.99851656, 0.9996591 , 1.0023803 ,\n",
       "         0.9990004 , 1.0012581 , 1.0011572 , 1.0018886 , 0.02123673,\n",
       "         0.02123733, 0.02118366, 0.02144893, 0.02145627, 0.01990981,\n",
       "         0.02156356, 0.02009167, 0.02037422, 0.02003666], dtype=float32),\n",
       "  array([0.00179101, 0.00264158, 0.00265296, 0.0022042 , 0.002937  ,\n",
       "         0.00218249, 0.00245862, 0.0024582 , 0.0028875 , 0.00284028,\n",
       "         0.3712959 , 0.37996876, 0.33015493, 0.2893988 , 0.35212734,\n",
       "         0.3710065 , 0.41257194, 0.41298744, 0.35093382, 0.00175682,\n",
       "         0.00258494, 0.00260013, 0.00216581, 0.00288148, 0.00212889,\n",
       "         0.00240812, 0.00240426, 0.00282522, 0.00277872], dtype=float32),\n",
       "  array([728.6688], dtype=float32)))"
      ]
     },
     "execution_count": 12,
     "metadata": {},
     "output_type": "execute_result"
    }
   ],
   "source": [
    "im_estimator.saved_states[20]"
   ]
  },
  {
   "cell_type": "markdown",
   "metadata": {},
   "source": [
    "Notice the first component is `True`. When it instead is `False`, it simply means that no learning has been done, because either it was the first time-step (simple unconditional average) or a time-step at which the labels have numerically zero variance (in which case the conditional expectation is simply the unconditional average)."
   ]
  },
  {
   "cell_type": "markdown",
   "metadata": {},
   "source": [
    "## Inference"
   ]
  },
  {
   "cell_type": "markdown",
   "metadata": {},
   "source": [
    "Now we would like to output IM values from our trained learner. We first launch a new set of paths. This time, we tell the diffusion engine to run a Nested Monte Carlo simulation at time-steps 30, 60, and 90 in order to get a NMC estimator of the IM at those time-steps, which will be used as a benchmark against which we will compare the learners below."
   ]
  },
  {
   "cell_type": "markdown",
   "metadata": {},
   "source": [
    "We will first recreate our DiffusionEngine in order to reduce the number of outer paths to allow for enough inner paths. We need less outer paths than previously because now we're done learning. We also correspondingly update our IMEstimator because the sample size changed."
   ]
  },
  {
   "cell_type": "code",
   "execution_count": 13,
   "metadata": {},
   "outputs": [
    {
     "name": "stdout",
     "output_type": "stream",
     "text": [
      "Successfully compiled all kernels.\n"
     ]
    },
    {
     "data": {
      "text/plain": [
       "125"
      ]
     },
     "execution_count": 13,
     "metadata": {},
     "output_type": "execute_result"
    }
   ],
   "source": [
    "import gc\n",
    "\n",
    "old_num_paths = num_paths\n",
    "num_paths = 2**14 # 2**15\n",
    "num_inner_paths = 512 # 1024\n",
    "num_defs_per_path = 1\n",
    "\n",
    "diffusion_engine = DiffusionEngine(50, 50, num_coarse_steps, dT, num_fine_per_coarse, dt,\n",
    "                                   num_paths, num_inner_paths, num_defs_per_path, \n",
    "                                   num_rates, num_spreads, R, rates_params, fx_params, \n",
    "                                   spreads_params, vanilla_specs, irs_specs, zcs_specs,\n",
    "                                   initial_values, initial_defaults, cDtoH_freq, device=device.index,\n",
    "                                   no_nested_im=False, no_nested_cva=True)\n",
    "\n",
    "im_estimator.diffusion_engine = diffusion_engine\n",
    "im_estimator._estimator.num_samples = num_defs_per_path*num_paths\n",
    "im_estimator._estimator.batch_size = im_estimator.batch_size = (num_defs_per_path*num_paths)//32 # (num_defs_per_path*num_paths)//32\n",
    "\n",
    "gc.collect()"
   ]
  },
  {
   "cell_type": "code",
   "execution_count": 14,
   "metadata": {
    "scrolled": true
   },
   "outputs": [
    {
     "name": "stdout",
     "output_type": "stream",
     "text": [
      "cuda_diffuse_and_price elapsed time: 1654.931 ms\n",
      "cuda_diffuse_and_price elapsed time: 1648.927 ms\n",
      "cuda_diffuse_and_price elapsed time: 1683.273 ms\n",
      "cuda_diffuse_and_price elapsed time: 1700.345 ms\n",
      "cuda_diffuse_and_price elapsed time: 1699.833 ms\n",
      "cuda_diffuse_and_price elapsed time: 1715.563 ms\n",
      "cuda_diffuse_and_price elapsed time: 1737.263 ms\n",
      "cuda_diffuse_and_price elapsed time: 1733.806 ms\n",
      "cuda_diffuse_and_price elapsed time: 1741.39 ms\n",
      "cuda_diffuse_and_price elapsed time: 1735.407 ms\n",
      "cuda_diffuse_and_price elapsed time: 1732.788 ms\n",
      "cuda_diffuse_and_price elapsed time: 1734.14 ms\n",
      "cuda_diffuse_and_price elapsed time: 1735.608 ms\n",
      "cuda_diffuse_and_price elapsed time: 1733.186 ms\n",
      "cuda_diffuse_and_price elapsed time: 1800.936 ms\n",
      "cuda_diffuse_and_price elapsed time: 1804.671 ms\n",
      "cuda_diffuse_and_price elapsed time: 1804.106 ms\n",
      "cuda_diffuse_and_price elapsed time: 1786.416 ms\n",
      "cuda_diffuse_and_price elapsed time: 1749.691 ms\n",
      "cuda_diffuse_and_price elapsed time: 1757.008 ms\n",
      "cuda_diffuse_and_price elapsed time: 1760.613 ms\n",
      "cuda_diffuse_and_price elapsed time: 1858.059 ms\n",
      "cuda_diffuse_and_price elapsed time: 1806.552 ms\n",
      "cuda_diffuse_and_price elapsed time: 1786.666 ms\n",
      "cuda_diffuse_and_price elapsed time: 1828.01 ms\n",
      "cuda_diffuse_and_price elapsed time: 1847.781 ms\n",
      "cuda_diffuse_and_price elapsed time: 1881.744 ms\n",
      "cuda_diffuse_and_price elapsed time: 1839.339 ms\n",
      "cuda_diffuse_and_price elapsed time: 1856.969 ms\n",
      "cuda_diffuse_and_price elapsed time: 1937.4 ms\n",
      "cuda_diffuse_and_price elapsed time: 1918.3 ms\n",
      "cuda_diffuse_and_price elapsed time: 1908.887 ms\n",
      "done in 60.77 secs\n"
     ]
    }
   ],
   "source": [
    "_evt_start.record()\n",
    "for _ in range((old_num_paths+num_paths-1)//num_paths):\n",
    "    diffusion_engine.generate_batch(fused=True, set_irs_at_par=True)\n",
    "_evt_stop.record()\n",
    "elapsed_time_def = _evt_start.elapsed_time(_evt_stop)/1000\n",
    "print('done in {} secs'.format(round(elapsed_time_def, 2)))"
   ]
  },
  {
   "cell_type": "code",
   "execution_count": 15,
   "metadata": {},
   "outputs": [],
   "source": [
    "# uncomment if you want to compute a Nested MC estimator\n",
    "\n",
    "# nested_timesteps = [30, 60, 90]\n",
    "# diffusion_engine.generate_batch(fused=True, set_irs_at_par=True, nested_im_at=nested_timesteps, alpha=alpha, im_window=1)"
   ]
  },
  {
   "cell_type": "markdown",
   "metadata": {},
   "source": [
    "In order to perform inference, one normally needs a *predictor* (via `.predict`) and then iterate over the time-steps and call it as needed to generate the predictions. Note that the predictor will also need a features generator. Thankfully, a helper function `predict` from `learning.misc` is provided and makes life much easier."
   ]
  },
  {
   "cell_type": "code",
   "execution_count": 16,
   "metadata": {},
   "outputs": [
    {
     "name": "stdout",
     "output_type": "stream",
     "text": [
      "Performing inference...done in 1.46 secs\n"
     ]
    }
   ],
   "source": [
    "print('Performing inference...', end='')\n",
    "_evt_start.record()\n",
    "predicted_im_out = predict(im_estimator, num_coarse_steps, 1, num_paths)\n",
    "_evt_stop.record()\n",
    "_evt_stop.synchronize()\n",
    "elapsed_time_def = _evt_start.elapsed_time(_evt_stop)/1000\n",
    "print('done in {} secs'.format(round(elapsed_time_def, 2)))"
   ]
  },
  {
   "cell_type": "code",
   "execution_count": 17,
   "metadata": {},
   "outputs": [
    {
     "data": {
      "text/plain": [
       "array([[1.5229010e+03, 1.5229010e+03, 1.5229010e+03, ..., 1.5229010e+03,\n",
       "        1.5229010e+03, 1.5229010e+03],\n",
       "       [1.5614735e+03, 1.9515375e+03, 1.5836858e+03, ..., 1.5505847e+03,\n",
       "        1.6093274e+03, 1.6404452e+03],\n",
       "       [1.5722842e+03, 1.8400312e+03, 1.4518561e+03, ..., 1.5722842e+03,\n",
       "        1.7614747e+03, 1.5722842e+03],\n",
       "       ...,\n",
       "       [5.1470852e-04, 5.3888693e-04, 4.8899307e-04, ..., 4.8566880e-04,\n",
       "        4.8383159e-04, 4.8942608e-04],\n",
       "       [5.4852728e-04, 6.2293553e-04, 4.9058173e-04, ..., 4.8308386e-04,\n",
       "        5.0407613e-04, 4.8160966e-04],\n",
       "       [0.0000000e+00, 0.0000000e+00, 0.0000000e+00, ..., 0.0000000e+00,\n",
       "        0.0000000e+00, 0.0000000e+00]], dtype=float32)"
      ]
     },
     "execution_count": 17,
     "metadata": {},
     "output_type": "execute_result"
    }
   ],
   "source": [
    "predicted_im_out"
   ]
  },
  {
   "cell_type": "markdown",
   "metadata": {},
   "source": [
    "Now we plot a few statistics of the learned IM along the time axis (unconditional mean & a few percentiles) and also plot the same statistics for our NMC estimator."
   ]
  },
  {
   "cell_type": "markdown",
   "metadata": {},
   "source": [
    "If we want only statistics and not individual realizations, then the following is enough and launching `predict` as we did previously is not necessary. This will not be faster but it will use less memory, as storing all realizations for all time steps is not necessary and only statistics are stored at each time step."
   ]
  },
  {
   "cell_type": "code",
   "execution_count": 18,
   "metadata": {},
   "outputs": [],
   "source": [
    "stats = ('mean', ('quantile', 0.99), ('quantile', 0.975), ('quantile', 0.025), ('quantile', 0.01))\n",
    "\n",
    "predicted_im_stats = predict_only_stats(im_estimator, stats, num_coarse_steps, recompute_at_zero=True)\n",
    "\n",
    "# uncomment the following lines if you're including the Nested MC estimator\n",
    "# nested_im_stats = {\n",
    "#     'mean': diffusion_engine.nested_im_by_cpty[nested_timesteps, 0].mean(axis=1),\n",
    "#     ('quantile', 0.975): np.percentile(diffusion_engine.nested_im_by_cpty[nested_timesteps, 0], 97.5, axis=1),\n",
    "#     ('quantile', 0.025): np.percentile(diffusion_engine.nested_im_by_cpty[nested_timesteps, 0], 2.5, axis=1),\n",
    "#     ('quantile', 0.99): np.percentile(diffusion_engine.nested_im_by_cpty[nested_timesteps, 0], 99, axis=1),\n",
    "#     ('quantile', 0.01): np.percentile(diffusion_engine.nested_im_by_cpty[nested_timesteps, 0], 1, axis=1)\n",
    "# }"
   ]
  },
  {
   "cell_type": "code",
   "execution_count": 19,
   "metadata": {},
   "outputs": [
    {
     "data": {
      "image/png": "[encoded data removed]",
      "text/plain": [
       "<Figure size 1200x600 with 1 Axes>"
      ]
     },
     "metadata": {},
     "output_type": "display_data"
    }
   ],
   "source": [
    "fig = plt.figure(figsize=(12, 6), dpi=100)\n",
    "plt.plot(predicted_im_stats['mean'], label='Mean of learned IM, out-of-sample', color='purple')\n",
    "plt.plot(predicted_im_stats['quantile', 0.99], label=r'99\\% percentile of learned IM, out-of-sample', color='blue', linestyle='dashdot')\n",
    "plt.plot(predicted_im_stats['quantile', 0.01], label=r'1\\% percentile of learned IM, out-of-sample', color='tab:cyan', linestyle=(0, (3, 10, 1, 10)))\n",
    "plt.plot(predicted_im_stats['quantile', 0.975], label=r'97.5\\% percentile of learned IM, out-of-sample', color='burlywood', linestyle='dashed')\n",
    "plt.plot(predicted_im_stats['quantile', 0.025], label=r'2.5\\% percentile of learned IM, out-of-sample', color='saddlebrown', linestyle='dotted')\n",
    "\n",
    "# uncomment the following lines if you're including the Nested MC estimator in the plot\n",
    "# plt.plot(nested_timesteps, nested_im_stats['mean'], marker='s', linestyle='None', label='Mean of Nested Monte-Carlo IM, out-of-sample', color='black')\n",
    "# plt.plot(nested_timesteps, nested_im_stats['quantile', 0.975], marker='^', linestyle='None', label=r'97.5\\% percentile of Nested Monte-Carlo IM, out-of-sample', color='orange')\n",
    "# plt.plot(nested_timesteps, nested_im_stats['quantile', 0.025], marker='v', linestyle='None', label=r'2.5\\% percentile of Nested Monte-Carlo IM, out-of-sample', color='gray')\n",
    "# plt.plot(nested_timesteps, nested_im_stats['quantile', 0.99], marker='x', linestyle='None', label=r'99\\% percentile of Nested Monte-Carlo IM, out-of-sample', color='red')\n",
    "# plt.plot(nested_timesteps, nested_im_stats['quantile', 0.01], marker='+', linestyle='None', label=r'1\\% percentile of Nested Monte-Carlo IM, out-of-sample', color='green')\n",
    "\n",
    "plt.legend(loc='upper center', bbox_to_anchor=(0.5, -0.12), ncol=2, frameon=False);"
   ]
  },
  {
   "cell_type": "code",
   "execution_count": null,
   "metadata": {},
   "outputs": [],
   "source": []
  }
 ],
 "metadata": {
  "kernelspec": {
   "display_name": "Python 3 (ipykernel)",
   "language": "python",
   "name": "python3"
  },
  "language_info": {
   "codemirror_mode": {
    "name": "ipython",
    "version": 3
   },
   "file_extension": ".py",
   "mimetype": "text/x-python",
   "name": "python",
   "nbconvert_exporter": "python",
   "pygments_lexer": "ipython3",
   "version": "3.10.5"
  }
 },
 "nbformat": 4,
 "nbformat_minor": 4
}
