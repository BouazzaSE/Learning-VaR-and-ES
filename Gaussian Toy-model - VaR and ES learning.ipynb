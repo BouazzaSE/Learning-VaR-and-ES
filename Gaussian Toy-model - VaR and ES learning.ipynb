{
 "cells": [
  {
   "cell_type": "code",
   "execution_count": 23,
   "id": "instant-blink",
   "metadata": {},
   "outputs": [],
   "source": [
    "from copy import deepcopy\n",
    "import cupy as cp\n",
    "from itertools import chain\n",
    "import math\n",
    "import matplotlib.pyplot as plt\n",
    "import numpy as np\n",
    "import pandas as pd\n",
    "from scipy.stats import norm\n",
    "import torch\n",
    "from typing import Optional, Tuple"
   ]
  },
  {
   "cell_type": "code",
   "execution_count": 2,
   "id": "7364ef67",
   "metadata": {},
   "outputs": [],
   "source": [
    "import warnings\n",
    "warnings.filterwarnings('ignore', category=UserWarning)"
   ]
  },
  {
   "cell_type": "code",
   "execution_count": 3,
   "id": "beginning-tennessee",
   "metadata": {},
   "outputs": [
    {
     "data": {
      "text/plain": [
       "<torch._C.Generator at 0x7f5b12598170>"
      ]
     },
     "execution_count": 3,
     "metadata": {},
     "output_type": "execute_result"
    }
   ],
   "source": [
    "np.random.seed(0)\n",
    "torch.manual_seed(0)"
   ]
  },
  {
   "cell_type": "markdown",
   "id": "66ab8002",
   "metadata": {},
   "source": [
    "Reference paper:\n",
    "\n",
    "**\\[1\\]** Barrera, D., S. Crépey, E. Gobet, Hoang-Dung Nguyen, and B. Saadeddine. Learning value-at-risk and expected shortfall. Pre-print available at https://arxiv.org/abs/2209.06476, 2022."
   ]
  },
  {
   "cell_type": "markdown",
   "id": "40a41b69",
   "metadata": {},
   "source": [
    "## Helper function to construct the polynomial basis of the Gaussian toy-model in \\[1\\]."
   ]
  },
  {
   "cell_type": "code",
   "execution_count": 4,
   "id": "brief-internship",
   "metadata": {},
   "outputs": [],
   "source": [
    "def construct_polynomial_basis(X):\n",
    "    polynomial_basis = torch.empty((X.shape[0], X.shape[1]+(X.shape[1]*(X.shape[1]+1))//2+1), dtype=X.dtype, device=X.device)\n",
    "    polynomial_basis[:, 0] = 1\n",
    "    polynomial_basis[:, 1:X.shape[1]+1] = X\n",
    "    offset = 0\n",
    "    for i in range(X.shape[1]):\n",
    "        s = X.shape[1] - i\n",
    "        polynomial_basis[:, X.shape[1]+offset+1:X.shape[1]+offset+s+1] = X[:, i, None]*X[:, i:]\n",
    "        offset += s\n",
    "    return polynomial_basis"
   ]
  },
  {
   "cell_type": "markdown",
   "id": "586ba488",
   "metadata": {},
   "source": [
    "## Helper function to compute the conditional mean and standard deviation under the toy-model"
   ]
  },
  {
   "cell_type": "code",
   "execution_count": 5,
   "id": "appointed-whole",
   "metadata": {},
   "outputs": [],
   "source": [
    "def compute_true_mean_std(X, lam1, lam2):\n",
    "    Z = construct_polynomial_basis(X)\n",
    "    mean = Z@lam1\n",
    "    std = torch.abs(Z@lam2)\n",
    "    return mean, std"
   ]
  },
  {
   "cell_type": "markdown",
   "id": "673bd9cc",
   "metadata": {},
   "source": [
    "## Helper function to compute the groundtruth VaR"
   ]
  },
  {
   "cell_type": "code",
   "execution_count": 6,
   "id": "heated-bulgaria",
   "metadata": {},
   "outputs": [],
   "source": [
    "def compute_true_VaR(alpha, mean, std):\n",
    "    if not isinstance(alpha, torch.Tensor):\n",
    "        return mean+std*norm.ppf(1-alpha)\n",
    "    else:\n",
    "        return mean+std*torch.as_tensor(norm.ppf(1-alpha.cpu().numpy()), device=alpha.device)"
   ]
  },
  {
   "cell_type": "markdown",
   "id": "9837cbc6",
   "metadata": {},
   "source": [
    "## Helper function to compute the groundtruth ES"
   ]
  },
  {
   "cell_type": "code",
   "execution_count": 7,
   "id": "01686958",
   "metadata": {},
   "outputs": [],
   "source": [
    "def compute_true_ES(alpha, mean, std):\n",
    "    if not isinstance(alpha, torch.Tensor):\n",
    "        return mean+std*(norm.pdf(norm.ppf(1-alpha))/alpha)\n",
    "    else:\n",
    "        return mean+std*torch.as_tensor(norm.pdf(norm.ppf(1-alpha.cpu().numpy())), device=alpha.device, dtype=torch.float32)/alpha"
   ]
  },
  {
   "cell_type": "markdown",
   "id": "ed78f78c",
   "metadata": {},
   "source": [
    "## Putting it all together to construct the dataset under our gaussian model"
   ]
  },
  {
   "cell_type": "code",
   "execution_count": 8,
   "id": "popular-liquid",
   "metadata": {},
   "outputs": [],
   "source": [
    "def construct_dataset(lam1, lam2, dim, num_samples, device):\n",
    "    assert lam1.shape == lam2.shape\n",
    "    assert len(lam1.shape) == 1\n",
    "    assert lam1.shape[0] == 1+dim+(dim*(dim+1))//2\n",
    "    X = torch.randn((num_samples, dim), dtype=torch.float32, device=device)\n",
    "    mean, std = compute_true_mean_std(X, lam1, lam2)\n",
    "    Y = torch.randn((num_samples, 1), dtype=torch.float32, device=device)*std[:, None]+mean[:, None]\n",
    "    return X, Y, mean, std"
   ]
  },
  {
   "cell_type": "markdown",
   "id": "19ded6cf",
   "metadata": {},
   "source": [
    "## Building blocks to define the networks for the multi-$\\alpha$ and single-$\\alpha$ approaches"
   ]
  },
  {
   "cell_type": "code",
   "execution_count": 9,
   "id": "cardiac-lightning",
   "metadata": {},
   "outputs": [],
   "source": [
    "class AffineSoftplus(torch.nn.Module):\n",
    "    def __init__(self, dim_in: int, dim_out: int):\n",
    "        super().__init__()\n",
    "        self.W = torch.nn.Parameter(torch.empty(dim_in, dim_out, dtype=torch.float32))\n",
    "        self.b = torch.nn.Parameter(torch.empty(1, dim_out, dtype=torch.float32))\n",
    "        self.activation = torch.nn.Softplus()\n",
    "        self.diff_activation = torch.nn.Sigmoid()\n",
    "\n",
    "    def forward(self, x: torch.Tensor) -> torch.Tensor:\n",
    "        z = torch.matmul(x, self.W) + self.b\n",
    "        y = self.activation(z)\n",
    "        return y\n",
    "    \n",
    "    @torch.jit.export\n",
    "    def forward_diff(self, x: torch.Tensor, dy_prev: Optional[torch.Tensor], only_first_diff: bool) -> Tuple[torch.Tensor, torch.Tensor]:\n",
    "        z = torch.matmul(x, self.W) + self.b\n",
    "        diff_activation = self.diff_activation(z).unsqueeze(1)\n",
    "        if only_first_diff:\n",
    "            W = self.W[0].unsqueeze(0)\n",
    "        else:\n",
    "            W = self.W\n",
    "        W = W.unsqueeze(0)\n",
    "        y = self.activation(z)\n",
    "        if dy_prev is not None:\n",
    "            dy = (dy_prev @ W) * diff_activation\n",
    "        else:\n",
    "            dy = W * diff_activation\n",
    "        return y, dy\n",
    "\n",
    "class Affine(torch.nn.Module):\n",
    "    def __init__(self, dim_in: int, dim_out: int):\n",
    "        super().__init__()\n",
    "        self.W = torch.nn.Parameter(torch.empty(dim_in, dim_out, dtype=torch.float32))\n",
    "        self.b = torch.nn.Parameter(torch.empty(1, dim_out, dtype=torch.float32))\n",
    "        \n",
    "    def forward(self, x: torch.Tensor) -> torch.Tensor:\n",
    "        y = torch.matmul(x, self.W) + self.b\n",
    "        return y\n",
    "    \n",
    "    @torch.jit.export\n",
    "    def forward_diff(self, x: torch.Tensor, dy_prev: Optional[torch.Tensor], only_first_diff: bool) -> Tuple[torch.Tensor, torch.Tensor]:\n",
    "        y = torch.matmul(x, self.W) + self.b\n",
    "        if only_first_diff:\n",
    "            W = self.W[0].unsqueeze(0)\n",
    "        else:\n",
    "            W = self.W\n",
    "        W = W.unsqueeze(0)\n",
    "        if dy_prev is not None:\n",
    "            dy = dy_prev @ W\n",
    "        else:\n",
    "            dy = W\n",
    "        return y, dy\n",
    "\n",
    "class ModelRandomAlpha(torch.nn.Module):\n",
    "    def __init__(self, input_dim: int, num_hidden_layers: int, num_hidden_units: int):\n",
    "        super().__init__()\n",
    "        h = []\n",
    "        dim_in = input_dim\n",
    "        for i in range(num_hidden_layers):\n",
    "            h.append(AffineSoftplus(dim_in, num_hidden_units))\n",
    "            dim_in = num_hidden_units\n",
    "        self.h = torch.nn.ModuleList(h)\n",
    "        self.o = Affine(num_hidden_units, 1)\n",
    "        self.register_buffer('x_mean', torch.zeros(1, input_dim, dtype=torch.float32))\n",
    "        self.register_buffer('x_std', torch.ones(1, input_dim, dtype=torch.float32))\n",
    "        self.register_buffer('y_mean', torch.zeros(1, 1, dtype=torch.float32))\n",
    "        self.register_buffer('y_std', torch.ones(1, 1, dtype=torch.float32))\n",
    "        for l in chain(self.h, (self.o,)):\n",
    "            torch.nn.init.normal_(l.W, mean=0., std=np.sqrt(1/l.W.shape[0]))\n",
    "            torch.nn.init.zeros_(l.b)\n",
    "\n",
    "    def forward(self, x: torch.Tensor) -> torch.Tensor:\n",
    "        a = (x-self.x_mean)/self.x_std\n",
    "        for l in self.h:\n",
    "            a = l(a)\n",
    "        return self.o(a)*self.y_std+self.y_mean\n",
    "    \n",
    "    @torch.jit.export\n",
    "    def forward_diff(self, x: torch.Tensor) -> Tuple[torch.Tensor, torch.Tensor]:\n",
    "        a = (x-self.x_mean)/self.x_std\n",
    "        a, da = self.h[0].forward_diff(a, None, True)\n",
    "        da = da / self.x_std[:, 0, None, None]\n",
    "        for l in self.h[1:]:\n",
    "            a, da = l.forward_diff(a, da, False)\n",
    "        a, da = self.o.forward_diff(a, da, False)\n",
    "        a = a * self.y_std + self.y_mean\n",
    "        da = da[:, :, 0] * self.y_std\n",
    "        return a, da\n",
    "\n",
    "class ModelRandomAlphaPiecewiseAffine(torch.nn.Module):\n",
    "    def __init__(self, input_dim, num_hidden_layers, num_hidden_units, interpolation_nodes, bottleneck=False, positive_increments=True):\n",
    "        super().__init__()\n",
    "        h = []\n",
    "        dim_in = input_dim-1\n",
    "        for i in range(num_hidden_layers):\n",
    "            if bottleneck and i==num_hidden_layers-1:\n",
    "                h.append(AffineSoftplus(num_hidden_units, 1))\n",
    "                break\n",
    "            h.append(AffineSoftplus(dim_in, num_hidden_units))\n",
    "            dim_in = num_hidden_units\n",
    "        self.h = torch.nn.ModuleList(h)\n",
    "        self.o = Affine(num_hidden_units if not bottleneck else 1, interpolation_nodes.shape[0])\n",
    "        self.positive_increments = positive_increments\n",
    "        self.register_buffer('x_mean', torch.zeros(1, input_dim, dtype=torch.float32))\n",
    "        self.register_buffer('x_std', torch.ones(1, input_dim, dtype=torch.float32))\n",
    "        self.register_buffer('y_mean', torch.zeros(1, 1, dtype=torch.float32))\n",
    "        self.register_buffer('y_std', torch.ones(1, 1, dtype=torch.float32))\n",
    "        self.register_buffer('interpolation_nodes', interpolation_nodes)\n",
    "        self.register_buffer('interpolation_nodes_delta', interpolation_nodes[1:]-interpolation_nodes[:-1])\n",
    "        for l in chain(self.h, (self.o,)):\n",
    "            torch.nn.init.normal_(l.W, mean=0., std=np.sqrt(1/l.W.shape[0]))\n",
    "            torch.nn.init.zeros_(l.b)\n",
    "\n",
    "    def forward(self, x):\n",
    "        a = (x[:, 1:]-self.x_mean[:, 1:])/self.x_std[:, 1:]\n",
    "        for l in self.h:\n",
    "            a = l(a)\n",
    "        a = self.o(a)\n",
    "        if self.positive_increments:\n",
    "            a = a[:, 0, None]+torch.nn.functional.softplus((torch.minimum(x[:, 0, None], self.interpolation_nodes[None, 1:])-self.interpolation_nodes[None, :-1])*(self.interpolation_nodes[None, :-1]>=x[:, 0, None])*a[:, 1:]/self.interpolation_nodes_delta[None, :]).sum(1, keepdim=True)\n",
    "        else:\n",
    "            a = a[:, 0, None]+((torch.minimum(x[:, 0, None], self.interpolation_nodes[None, 1:])-self.interpolation_nodes[None, :-1])*(self.interpolation_nodes[None, :-1]>=x[:, 0, None])*a[:, 1:]/self.interpolation_nodes_delta[None, :]).sum(1, keepdim=True)\n",
    "        return a*self.y_std+self.y_mean"
   ]
  },
  {
   "cell_type": "markdown",
   "id": "6d0b6aed",
   "metadata": {},
   "source": [
    "## The loss function for the quantile learning"
   ]
  },
  {
   "cell_type": "code",
   "execution_count": 10,
   "id": "noted-capability",
   "metadata": {},
   "outputs": [],
   "source": [
    "@torch.jit.script\n",
    "def _var_loss(y_pred: torch.Tensor, y_true: torch.Tensor, alpha: torch.Tensor) -> torch.Tensor:\n",
    "    return torch.mean(torch.relu(y_true-y_pred)+alpha*y_pred)"
   ]
  },
  {
   "cell_type": "markdown",
   "id": "520d84b1",
   "metadata": {},
   "source": [
    "## A training routine for the single-$\\alpha$ approach"
   ]
  },
  {
   "cell_type": "code",
   "execution_count": 11,
   "id": "advance-composition",
   "metadata": {},
   "outputs": [],
   "source": [
    "def train_single_var(model, X, Y, X_valid, Y_valid, alpha, batch_size, lr, num_epochs):\n",
    "    assert X.shape[0] == Y.shape[0]\n",
    "    assert Y.shape[1] == 1\n",
    "    assert isinstance(alpha, torch.Tensor)\n",
    "    device = next(model.parameters()).device\n",
    "    optimizer = torch.optim.Adam(model.parameters())\n",
    "    model.x_mean.copy_(X.mean(0)[None, :])\n",
    "    model.x_std.copy_(X.std(0)[None, :])\n",
    "    model.y_mean.copy_(Y.mean(0)[None, :])\n",
    "    model.y_std.copy_(Y.std(0)[None, :])\n",
    "    with torch.no_grad():\n",
    "        valid_loss = 0\n",
    "        for b in range((X_valid.shape[0]+batch_size-1)//batch_size):\n",
    "            idx = slice(b*batch_size, (b+1)*batch_size)\n",
    "            Y_pred_valid = model(X_valid[idx])\n",
    "            valid_loss += _var_loss(Y_pred_valid, Y_valid[idx], alpha)/model.y_std\n",
    "        # assuming X_valid.shape[0] is a multiple of batch_size\n",
    "        valid_loss /= b+1\n",
    "        valid_loss = valid_loss.item()\n",
    "    best_state_dict = deepcopy(model.state_dict())\n",
    "    best_valid_loss = valid_loss\n",
    "    losses = [(valid_loss, best_valid_loss)]\n",
    "    for e in range(num_epochs):\n",
    "        for group in optimizer.param_groups:\n",
    "            group['lr'] = lr/np.sqrt(e+1)\n",
    "        for b in range((X.shape[0]+batch_size-1)//batch_size):\n",
    "            idx = slice(b*batch_size, (b+1)*batch_size)\n",
    "            optimizer.zero_grad()\n",
    "            Y_pred = model(X[idx])\n",
    "            loss = _var_loss(Y_pred, Y[idx], alpha)/model.y_std[0, 0]\n",
    "            loss.backward()\n",
    "            optimizer.step()\n",
    "        with torch.no_grad():\n",
    "            valid_loss = 0\n",
    "            for b in range((X_valid.shape[0]+batch_size-1)//batch_size):\n",
    "                idx = slice(b*batch_size, (b+1)*batch_size)\n",
    "                Y_pred_valid = model(X_valid[idx])\n",
    "                valid_loss += _var_loss(Y_pred_valid, Y_valid[idx], alpha)/model.y_std\n",
    "            # assuming X_valid.shape[0] is a multiple of batch_size\n",
    "            valid_loss /= b+1\n",
    "            valid_loss = valid_loss.item()\n",
    "        if valid_loss < best_valid_loss:\n",
    "            best_valid_loss = valid_loss\n",
    "            for k, v in best_state_dict.items():\n",
    "                v.copy_(model.state_dict()[k])\n",
    "        losses.append((valid_loss, best_valid_loss))\n",
    "        if e % 20 == 0:\n",
    "            print('.', end='')\n",
    "    model.load_state_dict(best_state_dict)\n",
    "    print(' Done!')\n",
    "    return losses"
   ]
  },
  {
   "cell_type": "markdown",
   "id": "afa6d6a4",
   "metadata": {},
   "source": [
    "## A training routine for the multi-$\\alpha$ approaches"
   ]
  },
  {
   "cell_type": "code",
   "execution_count": 12,
   "id": "fancy-penguin",
   "metadata": {},
   "outputs": [],
   "source": [
    "def train_multiple_var(model, X, Y, X_valid, Y_valid, batch_size, lr, num_epochs, gamma=None):\n",
    "    assert X.shape[0] == Y.shape[0]\n",
    "    assert Y.shape[1] == 1\n",
    "    device = next(model.parameters()).device\n",
    "    optimizer = torch.optim.Adam(model.parameters())\n",
    "    model.x_mean.copy_(X.mean(0)[None, :])\n",
    "    model.x_std.copy_(X.std(0)[None, :])\n",
    "    model.y_mean.copy_(Y.mean(0)[None, :])\n",
    "    model.y_std.copy_(Y.std(0)[None, :])\n",
    "    alphas = X[:, 0, None]\n",
    "    alphas_valid = X_valid[:, 0, None]\n",
    "    with torch.no_grad():\n",
    "        monotonicity_penalty_valid = 0\n",
    "        valid_loss = 0\n",
    "        for b in range((X_valid.shape[0]+batch_size-1)//batch_size):\n",
    "            idx = slice(b*batch_size, (b+1)*batch_size)\n",
    "            if gamma is None:\n",
    "                Y_pred_valid = model(X_valid[idx])\n",
    "            else:\n",
    "                Y_pred_valid, dY_pred_valid = model.forward_diff(X_valid[idx])\n",
    "                monotonicity_penalty_valid += gamma*torch.relu(dY_pred_valid).mean()/model.y_std[0, 0]*model.x_std[0, 0]\n",
    "            valid_loss += _var_loss(Y_pred_valid, Y_valid[idx], alphas_valid[idx])/model.y_std\n",
    "        if gamma is not None:\n",
    "            monotonicity_penalty_valid /= b+1\n",
    "            monotonicity_penalty_valid = monotonicity_penalty_valid.item()\n",
    "        valid_loss /= b+1\n",
    "        valid_loss = valid_loss.item()\n",
    "    best_state_dict = deepcopy(model.state_dict())\n",
    "    selection_score = valid_loss + monotonicity_penalty_valid\n",
    "    best_selection_score = selection_score\n",
    "    losses = [(valid_loss, monotonicity_penalty_valid, selection_score, best_selection_score)]\n",
    "    for e in range(num_epochs):\n",
    "        for group in optimizer.param_groups:\n",
    "            group['lr'] = lr/np.sqrt(e+1)\n",
    "        for b in range((X.shape[0]+batch_size-1)//batch_size):\n",
    "            idx = slice(b*batch_size, (b+1)*batch_size)\n",
    "            optimizer.zero_grad()\n",
    "            if gamma is None:\n",
    "                Y_pred = model(X[idx])\n",
    "                monotonicity_penalty = 0\n",
    "            else:\n",
    "                Y_pred, dY_pred = model.forward_diff(X[idx])\n",
    "                monotonicity_penalty = gamma*torch.relu(dY_pred).mean()/model.y_std[0, 0]*model.x_std[0, 0]\n",
    "            loss = _var_loss(Y_pred, Y[idx], alphas[idx])/model.y_std[0, 0] + monotonicity_penalty\n",
    "            loss.backward()\n",
    "            optimizer.step()\n",
    "        with torch.no_grad():\n",
    "            monotonicity_penalty_valid = 0\n",
    "            valid_loss = 0\n",
    "            for b in range((X_valid.shape[0]+batch_size-1)//batch_size):\n",
    "                idx = slice(b*batch_size, (b+1)*batch_size)\n",
    "                if gamma is None:\n",
    "                    Y_pred_valid = model(X_valid[idx])\n",
    "                else:\n",
    "                    Y_pred_valid, dY_pred_valid = model.forward_diff(X_valid[idx])\n",
    "                    monotonicity_penalty_valid += gamma*torch.relu(dY_pred_valid).mean()/model.y_std[0, 0]*model.x_std[0, 0]\n",
    "                valid_loss += _var_loss(Y_pred_valid, Y_valid[idx], alphas_valid[idx])/model.y_std\n",
    "            if gamma is not None:\n",
    "                monotonicity_penalty_valid /= b+1\n",
    "                monotonicity_penalty_valid = monotonicity_penalty_valid.item()\n",
    "            valid_loss /= b+1\n",
    "            valid_loss = valid_loss.item()\n",
    "        selection_score = valid_loss + monotonicity_penalty_valid\n",
    "        if selection_score < best_selection_score:\n",
    "            best_selection_score = selection_score\n",
    "            for k, v in best_state_dict.items():\n",
    "                v.copy_(model.state_dict()[k])\n",
    "        losses.append((valid_loss, monotonicity_penalty_valid, selection_score, best_selection_score))\n",
    "        if e % 20 == 0:\n",
    "            print('.', end='')\n",
    "    model.load_state_dict(best_state_dict)\n",
    "    print(' Done!')\n",
    "    return losses"
   ]
  },
  {
   "cell_type": "markdown",
   "id": "f746d9ba",
   "metadata": {},
   "source": [
    "## ES one-shot learning using linear regression"
   ]
  },
  {
   "cell_type": "markdown",
   "id": "355f1ddc",
   "metadata": {},
   "source": [
    "The following assumes a neural network has had its hidden layers properly initialized with the weights of a VaR estimator. The ES learning here then consists in optimizing the least-squares error for the ES only over the weights of the output layer. Hence, this can be done using a simple linear regression."
   ]
  },
  {
   "cell_type": "code",
   "execution_count": 13,
   "id": "a2d88b90",
   "metadata": {},
   "outputs": [],
   "source": [
    "def train_single_es_regr(model, X, Y, Y_var, alpha, batch_size):\n",
    "    assert X.shape[0] == Y.shape[0]\n",
    "    assert Y.shape[1] == 1\n",
    "    assert isinstance(alpha, torch.Tensor)\n",
    "    device = next(model.parameters()).device\n",
    "    model.x_mean.copy_(X.mean(0)[None, :])\n",
    "    model.x_std.copy_(X.std(0)[None, :])\n",
    "    with torch.no_grad():\n",
    "        es_Y = (Y-Y_var).relu_().div_(alpha)+Y_var\n",
    "    model.y_mean.copy_(es_Y.mean(0)[None, :])\n",
    "    model.y_std.copy_(es_Y.std(0)[None, :])\n",
    "    h_aug = torch.empty((batch_size, model.o.W.shape[0]+1), dtype=torch.float32, device=device)\n",
    "    h_aug[:, 0] = 1\n",
    "    with torch.no_grad():\n",
    "        model.o.W.zero_()\n",
    "        model.o.b.zero_()\n",
    "        for b in range((X.shape[0]+batch_size-1)//batch_size):\n",
    "            idx = slice(b*batch_size, (b+1)*batch_size)\n",
    "            h = X[idx]\n",
    "            for l in model.h:\n",
    "                h = l(h)\n",
    "            h_aug[:, 1:] = h\n",
    "            with cp.cuda.Device(device.index):\n",
    "                sol, _, _, _ = cp.linalg.lstsq(cp.asarray(h_aug), cp.asarray((es_Y[idx]-model.y_mean)/model.y_std), rcond=None)\n",
    "                sol = torch.as_tensor(sol, device=device)\n",
    "            model.o.W.add_(sol[1:h_aug.shape[1]])\n",
    "            model.o.b.add_(sol[:1])\n",
    "        model.o.W /= b+1\n",
    "        model.o.b /= b+1\n",
    "    print(' Done!')"
   ]
  },
  {
   "cell_type": "markdown",
   "id": "b0a1da0d",
   "metadata": {},
   "source": [
    "## Helper functions to be able to also use multi-$\\alpha$ networks when learning the ES using the linear regression trick"
   ]
  },
  {
   "cell_type": "code",
   "execution_count": 14,
   "id": "3b4c151a",
   "metadata": {},
   "outputs": [],
   "source": [
    "def piecewiseaffinevar_to_singlevar(alpha, model):\n",
    "    with torch.no_grad():\n",
    "        num_layers = len(model.h)\n",
    "        W0 = model.h[0].W\n",
    "        dim = W0.shape[0]\n",
    "        num_units = W0.shape[1]\n",
    "        device = W0.device\n",
    "        singlevar_model = torch.jit.script(ModelRandomAlpha(dim, num_layers, num_units).to(device))\n",
    "        singlevar_model.x_mean.copy_(model.x_mean[:, 1:])\n",
    "        singlevar_model.x_std.copy_(model.x_std[:, 1:])\n",
    "        singlevar_model.y_mean.copy_(model.y_mean)\n",
    "        singlevar_model.y_std.copy_(model.y_std)\n",
    "        for k in range(num_layers):\n",
    "            singlevar_model.h[k].W.copy_(model.h[k].W)\n",
    "            singlevar_model.h[k].b.copy_(model.h[k].b)\n",
    "        v = torch.empty(model.o.W.shape[1], 1, dtype=torch.float32, device=device)\n",
    "        alpha = torch.tensor(alpha, dtype=torch.float32, device=device)\n",
    "        v[0, 0] = 1\n",
    "        v[1:, 0] = (torch.minimum(alpha, model.interpolation_nodes[1:])-model.interpolation_nodes[:-1])*(model.interpolation_nodes[:-1]>=alpha)/model.interpolation_nodes_delta\n",
    "        singlevar_model.o.W.copy_(torch.mm(model.o.W, v))\n",
    "        singlevar_model.o.b.copy_(torch.mm(model.o.b, v))\n",
    "    return singlevar_model\n",
    "\n",
    "def randomalphavar_to_singlevar(alpha, model):\n",
    "    with torch.no_grad():\n",
    "        num_layers = len(model.h)\n",
    "        mean = model.x_mean[0, 0]\n",
    "        std = model.x_std[0, 0]\n",
    "        W0 = model.h[0].W\n",
    "        b0 = model.h[0].b\n",
    "        dim = W0.shape[0]-1\n",
    "        num_units = W0.shape[1]\n",
    "        device = W0.device\n",
    "        singlevar_model = torch.jit.script(ModelRandomAlpha(dim, num_layers, num_units).to(device))\n",
    "        singlevar_model.x_mean.copy_(model.x_mean[:, 1:])\n",
    "        singlevar_model.x_std.copy_(model.x_std[:, 1:])\n",
    "        singlevar_model.y_mean.copy_(model.y_mean)\n",
    "        singlevar_model.y_std.copy_(model.y_std)\n",
    "        singlevar_model.h[0].W.copy_(W0[1:])\n",
    "        singlevar_model.h[0].b.copy_(b0)\n",
    "        singlevar_model.h[0].b.add_(((alpha-mean)/std)*W0[0, None])\n",
    "        for k in range(1, num_layers):\n",
    "            singlevar_model.h[k].W.copy_(model.h[k].W)\n",
    "            singlevar_model.h[k].b.copy_(model.h[k].b)\n",
    "        singlevar_model.o.W.copy_(model.o.W)\n",
    "        singlevar_model.o.b.copy_(model.o.b)\n",
    "    return singlevar_model"
   ]
  },
  {
   "cell_type": "markdown",
   "id": "e3bda3df",
   "metadata": {},
   "source": [
    "## Training"
   ]
  },
  {
   "cell_type": "code",
   "execution_count": 15,
   "id": "published-paste",
   "metadata": {},
   "outputs": [],
   "source": [
    "# we use the first CUDA device available\n",
    "device = torch.device('cuda:0')\n",
    "\n",
    "# setting the total size of the sample (half of which is going to be used for training)\n",
    "num_samples = 2**20\n",
    "\n",
    "# assuming a dimensionality of 25 for X\n",
    "dim = 25\n",
    "\n",
    "# constructing the coefficients of the mean and std polynomials randomly\n",
    "lam1 = torch.randn(1+dim+(dim*(dim+1))//2, dtype=torch.float32, device=device)\n",
    "lam2 = torch.randn(1+dim+(dim*(dim+1))//2, dtype=torch.float32, device=device)\n",
    "\n",
    "# constructing the data-set\n",
    "X, Y, mean, std = construct_dataset(lam1, lam2, dim, num_samples, device)\n",
    "\n",
    "# alpha is randomized and follows a Uniform distribution with the following bounds\n",
    "alphas_lower_bound, alphas_upper_bound = 0.0001, 0.15\n",
    "\n",
    "# creating another tensor where alpha is a covariate alongside X, necessary for the multi-alpha approaches\n",
    "X_aug = torch.empty((X.shape[0], X.shape[1]+1), dtype=torch.float32, device=device)\n",
    "X_aug[:, 0] = torch.rand(num_samples, dtype=torch.float32, device=device)*(alphas_upper_bound-alphas_lower_bound)+alphas_lower_bound\n",
    "X_aug[:, 1:] = X"
   ]
  },
  {
   "cell_type": "markdown",
   "id": "fe0c32ab",
   "metadata": {},
   "source": [
    "Now we construct the models."
   ]
  },
  {
   "cell_type": "code",
   "execution_count": 16,
   "id": "sharing-victim",
   "metadata": {},
   "outputs": [],
   "source": [
    "models = {}; gamma = {}\n",
    "single_alpha_grid = (0.001, 0.005, 0.01, 0.02, 0.03, 0.04, 0.05, 0.06, 0.07, 0.08, 0.09, 0.1)\n",
    "\n",
    "gamma['Multi-alpha I'] = 0.01\n",
    "gamma['Multi-alpha II'] = None\n",
    "gamma['Multi-alpha III'] = None\n",
    "\n",
    "labels = {}\n",
    "labels['Multi-alpha I'] = r'Multi-$\\alpha$ I'\n",
    "labels['Multi-alpha II'] = r'Multi-$\\alpha$ II'\n",
    "labels['Multi-alpha III'] = r'Multi-$\\alpha$ III'\n",
    "\n",
    "models['Multi-alpha I'] = torch.jit.script(ModelRandomAlpha(dim+1, 3, 2*(dim+1)).to(device))\n",
    "models['Multi-alpha II'] = torch.jit.script(ModelRandomAlpha(dim+1, 3, 2*(dim+1)).to(device))\n",
    "models['Multi-alpha III'] = torch.jit.script(ModelRandomAlphaPiecewiseAffine(dim+1, 3, 2*(dim+1), torch.linspace(0.001, 0.15, 21, dtype=torch.float32), bottleneck=False, positive_increments=False).to(device))\n",
    "\n",
    "single_alpha_models = {alpha: torch.jit.script(ModelRandomAlpha(dim, 3, 2*dim)).to(device) for alpha in single_alpha_grid}"
   ]
  },
  {
   "cell_type": "code",
   "execution_count": 17,
   "id": "635724fb",
   "metadata": {},
   "outputs": [],
   "source": [
    "es_models_singlealpha = {alpha: torch.jit.script(ModelRandomAlpha(dim, 3, 2*dim)).to(device) for alpha in single_alpha_grid}\n",
    "es_models_multialpha_1 = {alpha: torch.jit.script(ModelRandomAlpha(dim, 3, 2*(dim+1))).to(device) for alpha in single_alpha_grid}\n",
    "es_models_multialpha_2 = {alpha: torch.jit.script(ModelRandomAlpha(dim, 3, 2*(dim+1))).to(device) for alpha in single_alpha_grid}\n",
    "es_models_multialpha_3 = {alpha: torch.jit.script(ModelRandomAlpha(dim, 3, 2*(dim+1))).to(device) for alpha in single_alpha_grid}"
   ]
  },
  {
   "cell_type": "markdown",
   "id": "0cb94925",
   "metadata": {},
   "source": [
    "Using a size of $2^{15}$ for the batches in the mini-batch Adam iterations, and limiting the training to only half of the dataset, so that the other half could be used as a validation set to select the best iterate during training."
   ]
  },
  {
   "cell_type": "code",
   "execution_count": 18,
   "id": "present-blond",
   "metadata": {},
   "outputs": [],
   "source": [
    "train_valid_cutoff = num_samples//2\n",
    "batch_size = 2**15"
   ]
  },
  {
   "cell_type": "markdown",
   "id": "7540c660",
   "metadata": {},
   "source": [
    "Creating our CUDA events to do the timings."
   ]
  },
  {
   "cell_type": "code",
   "execution_count": 19,
   "id": "rental-implementation",
   "metadata": {},
   "outputs": [],
   "source": [
    "evt_start = torch.cuda.Event(enable_timing=True)\n",
    "evt_stop = torch.cuda.Event(enable_timing=True)"
   ]
  },
  {
   "cell_type": "markdown",
   "id": "9b791897",
   "metadata": {},
   "source": [
    "We first train the multi-$\\alpha$ VaR models."
   ]
  },
  {
   "cell_type": "code",
   "execution_count": 20,
   "id": "filled-raising",
   "metadata": {},
   "outputs": [
    {
     "name": "stdout",
     "output_type": "stream",
     "text": [
      "* Training Multi-alpha I\n",
      ".................................................................................................... Done!\n",
      "Elapsed time: 412.72 secs\n",
      "* Training Multi-alpha II\n",
      ".................................................................................................... Done!\n",
      "Elapsed time: 64.7 secs\n",
      "* Training Multi-alpha III\n",
      ".................................................................................................... Done!\n",
      "Elapsed time: 81.05 secs\n"
     ]
    }
   ],
   "source": [
    "losses = {}\n",
    "for k, v in models.items():\n",
    "    print('* Training {}'.format(k))\n",
    "    evt_start.record()\n",
    "    losses[k] = train_multiple_var(v, X_aug[:train_valid_cutoff], Y[:train_valid_cutoff], X_aug[train_valid_cutoff:], Y[train_valid_cutoff:], batch_size, 0.01, 2000, gamma=gamma[k])\n",
    "    evt_stop.record()\n",
    "    evt_stop.synchronize()\n",
    "    print('Elapsed time: {} secs'.format(round((evt_start.elapsed_time(evt_stop))/1000, 2)))"
   ]
  },
  {
   "cell_type": "markdown",
   "id": "f2de493d",
   "metadata": {},
   "source": [
    "Now we train different VaR estimators using the single-$\\alpha$ approach for different values of $\\alpha$."
   ]
  },
  {
   "cell_type": "code",
   "execution_count": 21,
   "id": "marine-craps",
   "metadata": {},
   "outputs": [
    {
     "name": "stdout",
     "output_type": "stream",
     "text": [
      "* Training for alpha = 0.001\n",
      ".................................................................................................... Done!\n",
      "Elapsed time: 65.72 secs\n",
      "* Training for alpha = 0.005\n",
      ".................................................................................................... Done!\n",
      "Elapsed time: 63.96 secs\n",
      "* Training for alpha = 0.01\n",
      ".................................................................................................... Done!\n",
      "Elapsed time: 66.2 secs\n",
      "* Training for alpha = 0.02\n",
      ".................................................................................................... Done!\n",
      "Elapsed time: 70.88 secs\n",
      "* Training for alpha = 0.03\n",
      ".................................................................................................... Done!\n",
      "Elapsed time: 69.59 secs\n",
      "* Training for alpha = 0.04\n",
      ".................................................................................................... Done!\n",
      "Elapsed time: 69.66 secs\n",
      "* Training for alpha = 0.05\n",
      ".................................................................................................... Done!\n",
      "Elapsed time: 67.64 secs\n",
      "* Training for alpha = 0.06\n",
      ".................................................................................................... Done!\n",
      "Elapsed time: 67.27 secs\n",
      "* Training for alpha = 0.07\n",
      ".................................................................................................... Done!\n",
      "Elapsed time: 66.42 secs\n",
      "* Training for alpha = 0.08\n",
      ".................................................................................................... Done!\n",
      "Elapsed time: 66.37 secs\n",
      "* Training for alpha = 0.09\n",
      ".................................................................................................... Done!\n",
      "Elapsed time: 67.98 secs\n",
      "* Training for alpha = 0.1\n",
      ".................................................................................................... Done!\n",
      "Elapsed time: 69.07 secs\n"
     ]
    }
   ],
   "source": [
    "single_alpha_losses = {}\n",
    "for alpha, model in single_alpha_models.items():\n",
    "    print('* Training for alpha = {}'.format(alpha))\n",
    "    evt_start.record()\n",
    "    single_alpha_losses[alpha] = train_single_var(model, X[:train_valid_cutoff], Y[:train_valid_cutoff], X[train_valid_cutoff:], Y[train_valid_cutoff:], torch.tensor(alpha, device=device), batch_size, 0.01, 2000)\n",
    "    evt_stop.record()\n",
    "    evt_stop.synchronize()\n",
    "    print('Elapsed time: {} secs'.format(round((evt_start.elapsed_time(evt_stop))/1000, 2)))"
   ]
  },
  {
   "cell_type": "markdown",
   "id": "63003a8f",
   "metadata": {},
   "source": [
    "Finally, we train the ES estimators. The learnings are extremely fast as only the output layer is trained using linear regression."
   ]
  },
  {
   "cell_type": "code",
   "execution_count": 38,
   "id": "96a23195",
   "metadata": {},
   "outputs": [
    {
     "name": "stdout",
     "output_type": "stream",
     "text": [
      "* Training ES (same weights as learned single-alpha VaR except for last layer) for alpha = 0.001\n",
      " Done!\n",
      "Elapsed time: 0.15 secs\n",
      "* Training ES (same weights as learned single-alpha VaR except for last layer) for alpha = 0.005\n",
      " Done!\n",
      "Elapsed time: 0.25 secs\n",
      "* Training ES (same weights as learned single-alpha VaR except for last layer) for alpha = 0.01\n",
      " Done!\n",
      "Elapsed time: 0.11 secs\n",
      "* Training ES (same weights as learned single-alpha VaR except for last layer) for alpha = 0.02\n",
      " Done!\n",
      "Elapsed time: 0.11 secs\n",
      "* Training ES (same weights as learned single-alpha VaR except for last layer) for alpha = 0.03\n",
      " Done!\n",
      "Elapsed time: 0.11 secs\n",
      "* Training ES (same weights as learned single-alpha VaR except for last layer) for alpha = 0.04\n",
      " Done!\n",
      "Elapsed time: 0.1 secs\n",
      "* Training ES (same weights as learned single-alpha VaR except for last layer) for alpha = 0.05\n",
      " Done!\n",
      "Elapsed time: 0.11 secs\n",
      "* Training ES (same weights as learned single-alpha VaR except for last layer) for alpha = 0.06\n",
      " Done!\n",
      "Elapsed time: 0.11 secs\n",
      "* Training ES (same weights as learned single-alpha VaR except for last layer) for alpha = 0.07\n",
      " Done!\n",
      "Elapsed time: 0.11 secs\n",
      "* Training ES (same weights as learned single-alpha VaR except for last layer) for alpha = 0.08\n",
      " Done!\n",
      "Elapsed time: 0.11 secs\n",
      "* Training ES (same weights as learned single-alpha VaR except for last layer) for alpha = 0.09\n",
      " Done!\n",
      "Elapsed time: 0.11 secs\n",
      "* Training ES (same weights as learned single-alpha VaR except for last layer) for alpha = 0.1\n",
      " Done!\n",
      "Elapsed time: 0.11 secs\n"
     ]
    }
   ],
   "source": [
    "for alpha, model in es_models_singlealpha.items():\n",
    "    print('* Training ES (same weights as learned single-alpha VaR except for last layer) for alpha = {}'.format(alpha))\n",
    "    evt_start.record()\n",
    "    model.load_state_dict(single_alpha_models[alpha].state_dict())\n",
    "    with torch.no_grad():\n",
    "        Y_var = single_alpha_models[alpha](X)\n",
    "    train_single_es_regr(model, X[:train_valid_cutoff], Y[:train_valid_cutoff], Y_var[:train_valid_cutoff], torch.tensor(alpha, device=device), batch_size)\n",
    "    evt_stop.record()\n",
    "    evt_stop.synchronize()\n",
    "    print('Elapsed time: {} secs'.format(round((evt_start.elapsed_time(evt_stop))/1000, 2)))"
   ]
  },
  {
   "cell_type": "code",
   "execution_count": 25,
   "id": "5ab1a828",
   "metadata": {},
   "outputs": [
    {
     "name": "stdout",
     "output_type": "stream",
     "text": [
      "* Training ES (same weights as learned multi-alpha I VaR except for last layer) for alpha = 0.001\n",
      " Done!\n",
      "Elapsed time: 0.14 secs\n",
      "* Training ES (same weights as learned multi-alpha I VaR except for last layer) for alpha = 0.005\n",
      " Done!\n",
      "Elapsed time: 0.14 secs\n",
      "* Training ES (same weights as learned multi-alpha I VaR except for last layer) for alpha = 0.01\n",
      " Done!\n",
      "Elapsed time: 0.14 secs\n",
      "* Training ES (same weights as learned multi-alpha I VaR except for last layer) for alpha = 0.02\n",
      " Done!\n",
      "Elapsed time: 0.2 secs\n",
      "* Training ES (same weights as learned multi-alpha I VaR except for last layer) for alpha = 0.03\n",
      " Done!\n",
      "Elapsed time: 0.14 secs\n",
      "* Training ES (same weights as learned multi-alpha I VaR except for last layer) for alpha = 0.04\n",
      " Done!\n",
      "Elapsed time: 0.14 secs\n",
      "* Training ES (same weights as learned multi-alpha I VaR except for last layer) for alpha = 0.05\n",
      " Done!\n",
      "Elapsed time: 0.14 secs\n",
      "* Training ES (same weights as learned multi-alpha I VaR except for last layer) for alpha = 0.06\n",
      " Done!\n",
      "Elapsed time: 0.15 secs\n",
      "* Training ES (same weights as learned multi-alpha I VaR except for last layer) for alpha = 0.07\n",
      " Done!\n",
      "Elapsed time: 0.15 secs\n",
      "* Training ES (same weights as learned multi-alpha I VaR except for last layer) for alpha = 0.08\n",
      " Done!\n",
      "Elapsed time: 0.15 secs\n",
      "* Training ES (same weights as learned multi-alpha I VaR except for last layer) for alpha = 0.09\n",
      " Done!\n",
      "Elapsed time: 0.15 secs\n",
      "* Training ES (same weights as learned multi-alpha I VaR except for last layer) for alpha = 0.1\n",
      " Done!\n",
      "Elapsed time: 0.15 secs\n"
     ]
    }
   ],
   "source": [
    "for alpha, model in es_models_multialpha_1.items():\n",
    "    print('* Training ES (same weights as learned multi-alpha I VaR except for last layer) for alpha = {}'.format(alpha))\n",
    "    evt_start.record()\n",
    "    var_model = randomalphavar_to_singlevar(alpha, models['Multi-alpha I'])\n",
    "    with torch.no_grad():\n",
    "        Y_var = var_model(X)\n",
    "    model.load_state_dict(var_model.state_dict())\n",
    "    train_single_es_regr(model, X[:train_valid_cutoff], Y[:train_valid_cutoff], Y_var[:train_valid_cutoff], torch.tensor(alpha, device=device), batch_size)\n",
    "    evt_stop.record()\n",
    "    evt_stop.synchronize()\n",
    "    print('Elapsed time: {} secs'.format(round((evt_start.elapsed_time(evt_stop))/1000, 2)))"
   ]
  },
  {
   "cell_type": "code",
   "execution_count": 26,
   "id": "4b929d43",
   "metadata": {},
   "outputs": [
    {
     "name": "stdout",
     "output_type": "stream",
     "text": [
      "* Training ES (same weights as learned multi-alpha II VaR except for last layer) for alpha = 0.001\n",
      " Done!\n",
      "Elapsed time: 0.14 secs\n",
      "* Training ES (same weights as learned multi-alpha II VaR except for last layer) for alpha = 0.005\n",
      " Done!\n",
      "Elapsed time: 0.14 secs\n",
      "* Training ES (same weights as learned multi-alpha II VaR except for last layer) for alpha = 0.01\n",
      " Done!\n",
      "Elapsed time: 0.14 secs\n",
      "* Training ES (same weights as learned multi-alpha II VaR except for last layer) for alpha = 0.02\n",
      " Done!\n",
      "Elapsed time: 0.15 secs\n",
      "* Training ES (same weights as learned multi-alpha II VaR except for last layer) for alpha = 0.03\n",
      " Done!\n",
      "Elapsed time: 0.17 secs\n",
      "* Training ES (same weights as learned multi-alpha II VaR except for last layer) for alpha = 0.04\n",
      " Done!\n",
      "Elapsed time: 0.15 secs\n",
      "* Training ES (same weights as learned multi-alpha II VaR except for last layer) for alpha = 0.05\n",
      " Done!\n",
      "Elapsed time: 0.14 secs\n",
      "* Training ES (same weights as learned multi-alpha II VaR except for last layer) for alpha = 0.06\n",
      " Done!\n",
      "Elapsed time: 0.15 secs\n",
      "* Training ES (same weights as learned multi-alpha II VaR except for last layer) for alpha = 0.07\n",
      " Done!\n",
      "Elapsed time: 0.14 secs\n",
      "* Training ES (same weights as learned multi-alpha II VaR except for last layer) for alpha = 0.08\n",
      " Done!\n",
      "Elapsed time: 0.14 secs\n",
      "* Training ES (same weights as learned multi-alpha II VaR except for last layer) for alpha = 0.09\n",
      " Done!\n",
      "Elapsed time: 0.14 secs\n",
      "* Training ES (same weights as learned multi-alpha II VaR except for last layer) for alpha = 0.1\n",
      " Done!\n",
      "Elapsed time: 0.14 secs\n"
     ]
    }
   ],
   "source": [
    "for alpha, model in es_models_multialpha_2.items():\n",
    "    print('* Training ES (same weights as learned multi-alpha II VaR except for last layer) for alpha = {}'.format(alpha))\n",
    "    evt_start.record()\n",
    "    var_model = randomalphavar_to_singlevar(alpha, models['Multi-alpha II'])\n",
    "    with torch.no_grad():\n",
    "        Y_var = var_model(X)\n",
    "    model.load_state_dict(var_model.state_dict())\n",
    "    train_single_es_regr(model, X[:train_valid_cutoff], Y[:train_valid_cutoff], Y_var[:train_valid_cutoff], torch.tensor(alpha, device=device), batch_size)\n",
    "    evt_stop.record()\n",
    "    evt_stop.synchronize()\n",
    "    print('Elapsed time: {} secs'.format(round((evt_start.elapsed_time(evt_stop))/1000, 2)))"
   ]
  },
  {
   "cell_type": "code",
   "execution_count": 27,
   "id": "76e7e3bc",
   "metadata": {},
   "outputs": [
    {
     "name": "stdout",
     "output_type": "stream",
     "text": [
      "* Training ES (same weights as learned multi-alpha III VaR except for last layer) for alpha = 0.001\n",
      " Done!\n",
      "Elapsed time: 0.14 secs\n",
      "* Training ES (same weights as learned multi-alpha III VaR except for last layer) for alpha = 0.005\n",
      " Done!\n",
      "Elapsed time: 0.14 secs\n",
      "* Training ES (same weights as learned multi-alpha III VaR except for last layer) for alpha = 0.01\n",
      " Done!\n",
      "Elapsed time: 0.14 secs\n",
      "* Training ES (same weights as learned multi-alpha III VaR except for last layer) for alpha = 0.02\n",
      " Done!\n",
      "Elapsed time: 0.14 secs\n",
      "* Training ES (same weights as learned multi-alpha III VaR except for last layer) for alpha = 0.03\n",
      " Done!\n",
      "Elapsed time: 0.14 secs\n",
      "* Training ES (same weights as learned multi-alpha III VaR except for last layer) for alpha = 0.04\n",
      " Done!\n",
      "Elapsed time: 0.14 secs\n",
      "* Training ES (same weights as learned multi-alpha III VaR except for last layer) for alpha = 0.05\n",
      " Done!\n",
      "Elapsed time: 0.14 secs\n",
      "* Training ES (same weights as learned multi-alpha III VaR except for last layer) for alpha = 0.06\n",
      " Done!\n",
      "Elapsed time: 0.14 secs\n",
      "* Training ES (same weights as learned multi-alpha III VaR except for last layer) for alpha = 0.07\n",
      " Done!\n",
      "Elapsed time: 0.14 secs\n",
      "* Training ES (same weights as learned multi-alpha III VaR except for last layer) for alpha = 0.08\n",
      " Done!\n",
      "Elapsed time: 0.14 secs\n",
      "* Training ES (same weights as learned multi-alpha III VaR except for last layer) for alpha = 0.09\n",
      " Done!\n",
      "Elapsed time: 0.14 secs\n",
      "* Training ES (same weights as learned multi-alpha III VaR except for last layer) for alpha = 0.1\n",
      " Done!\n",
      "Elapsed time: 0.14 secs\n"
     ]
    }
   ],
   "source": [
    "for alpha, model in es_models_multialpha_3.items():\n",
    "    print('* Training ES (same weights as learned multi-alpha III VaR except for last layer) for alpha = {}'.format(alpha))\n",
    "    evt_start.record()\n",
    "    var_model = piecewiseaffinevar_to_singlevar(alpha, models['Multi-alpha III'])\n",
    "    with torch.no_grad():\n",
    "        Y_var = var_model(X)\n",
    "    model.load_state_dict(var_model.state_dict())\n",
    "    train_single_es_regr(model, X[:train_valid_cutoff], Y[:train_valid_cutoff], Y_var[:train_valid_cutoff], torch.tensor(alpha, device=device), batch_size)\n",
    "    evt_stop.record()\n",
    "    evt_stop.synchronize()\n",
    "    print('Elapsed time: {} secs'.format(round((evt_start.elapsed_time(evt_stop))/1000, 2)))"
   ]
  },
  {
   "cell_type": "markdown",
   "id": "af21d40d",
   "metadata": {},
   "source": [
    "## A few histograms"
   ]
  },
  {
   "cell_type": "markdown",
   "id": "e01cc95d",
   "metadata": {},
   "source": [
    "### Single-$\\alpha$ VaR vs groundtruth VaR"
   ]
  },
  {
   "cell_type": "code",
   "execution_count": 28,
   "id": "handmade-update",
   "metadata": {
    "scrolled": false
   },
   "outputs": [
    {
     "data": {
      "image/png": "[encoded data removed]",
      "text/plain": [
       "<Figure size 1200x600 with 1 Axes>"
      ]
     },
     "metadata": {},
     "output_type": "display_data"
    }
   ],
   "source": [
    "fig = plt.figure(figsize=(12, 6), dpi=100)\n",
    "with torch.no_grad():\n",
    "    alpha = 0.01\n",
    "    plt.hist(single_alpha_models[alpha](X[train_valid_cutoff:]).squeeze().cpu().numpy(), bins=128, alpha=0.5, density=True, label=r'Single-$\\alpha$', ec='black')\n",
    "    plt.hist(compute_true_VaR(alpha, mean[train_valid_cutoff:], std[train_valid_cutoff:]).cpu().numpy(), bins=128, alpha=0.5, density=True, label=r'Groundtruth', ec='black')\n",
    "plt.legend(loc='upper center', bbox_to_anchor=(0.5, -0.12), ncol=2, frameon=False);"
   ]
  },
  {
   "cell_type": "markdown",
   "id": "693a6a1d",
   "metadata": {},
   "source": [
    "### Learned ES (using same hidden layers as single-$\\alpha$ VaR) vs groundtruth ES"
   ]
  },
  {
   "cell_type": "code",
   "execution_count": 39,
   "id": "6b38e914",
   "metadata": {},
   "outputs": [
    {
     "data": {
      "image/png": "[encoded data removed]",
      "text/plain": [
       "<Figure size 1200x600 with 1 Axes>"
      ]
     },
     "metadata": {},
     "output_type": "display_data"
    }
   ],
   "source": [
    "fig = plt.figure(figsize=(12, 6), dpi=100)\n",
    "with torch.no_grad():\n",
    "    alpha = 0.01\n",
    "    plt.hist(es_models_singlealpha[alpha](X[train_valid_cutoff:]).squeeze().cpu().numpy(), bins=128, alpha=0.5, density=True, label=r'using single-$\\alpha$ hidden layers', ec='black')\n",
    "    plt.hist(compute_true_ES(alpha, mean[train_valid_cutoff:], std[train_valid_cutoff:]).cpu().numpy(), bins=128, alpha=0.5, density=True, label=r'Groundtruth', ec='black')\n",
    "plt.legend(loc='upper center', bbox_to_anchor=(0.5, -0.12), ncol=2, frameon=False);"
   ]
  },
  {
   "cell_type": "markdown",
   "id": "80482541",
   "metadata": {},
   "source": [
    "### Multi-$\\alpha$ VaRs vs groundtruth VaR"
   ]
  },
  {
   "cell_type": "code",
   "execution_count": 29,
   "id": "061ce310",
   "metadata": {
    "scrolled": false
   },
   "outputs": [
    {
     "data": {
      "image/png": "[encoded data removed]",
      "text/plain": [
       "<Figure size 1200x600 with 1 Axes>"
      ]
     },
     "metadata": {},
     "output_type": "display_data"
    }
   ],
   "source": [
    "fig = plt.figure(figsize=(12, 6), dpi=100)\n",
    "with torch.no_grad():\n",
    "    alpha = 0.01\n",
    "    X_aug_test = torch.empty((X.shape[0]-train_valid_cutoff, X.shape[1]+1), dtype=torch.float32, device=device)\n",
    "    X_aug_test[:, 0] = alpha\n",
    "    X_aug_test[:, 1:] = X[train_valid_cutoff:]\n",
    "    for k, v in models.items():\n",
    "        plt.hist(v(X_aug_test).squeeze().cpu().numpy(), bins=128, alpha=0.5, density=True, label=labels[k], ec='black')\n",
    "    plt.hist(compute_true_VaR(alpha, mean[train_valid_cutoff:], std[train_valid_cutoff:]).cpu().numpy(), bins=128, alpha=0.5, density=True, label=r'Groundtruth', ec='black')\n",
    "plt.legend(loc='upper center', bbox_to_anchor=(0.5, -0.12), ncol=2, frameon=False);"
   ]
  },
  {
   "cell_type": "markdown",
   "id": "b4d0c446",
   "metadata": {},
   "source": [
    "### Learned ES (using multi-$\\alpha$ VaRs' hidden layers) vs groundtruth ES"
   ]
  },
  {
   "cell_type": "code",
   "execution_count": 34,
   "id": "f3eedfd4",
   "metadata": {
    "scrolled": false
   },
   "outputs": [
    {
     "data": {
      "image/png": "[encoded data removed]",
      "text/plain": [
       "<Figure size 1200x600 with 1 Axes>"
      ]
     },
     "metadata": {},
     "output_type": "display_data"
    }
   ],
   "source": [
    "fig = plt.figure(figsize=(12, 6), dpi=100)\n",
    "with torch.no_grad():\n",
    "    alpha = 0.01\n",
    "    plt.hist(es_models_multialpha_1[alpha](X[train_valid_cutoff:]).squeeze().cpu().numpy(), bins=128, alpha=0.5, density=True, label=r'using multi-$\\alpha$ I hidden layers', ec='black')\n",
    "    plt.hist(es_models_multialpha_2[alpha](X[train_valid_cutoff:]).squeeze().cpu().numpy(), bins=128, alpha=0.5, density=True, label=r'using multi-$\\alpha$ II hidden layers', ec='black')\n",
    "    plt.hist(es_models_multialpha_3[alpha](X[train_valid_cutoff:]).squeeze().cpu().numpy(), bins=128, alpha=0.5, density=True, label=r'using multi-$\\alpha$ III hidden layers', ec='black')\n",
    "    plt.hist(compute_true_ES(alpha, mean[train_valid_cutoff:], std[train_valid_cutoff:]).cpu().numpy(), bins=128, alpha=0.5, density=True, label=r'Groundtruth', ec='black')\n",
    "plt.legend(loc='upper center', bbox_to_anchor=(0.5, -0.12), ncol=2, frameon=False);"
   ]
  },
  {
   "cell_type": "code",
   "execution_count": null,
   "id": "df8ed189",
   "metadata": {},
   "outputs": [],
   "source": []
  }
 ],
 "metadata": {
  "kernelspec": {
   "display_name": "Python 3 (ipykernel)",
   "language": "python",
   "name": "python3"
  },
  "language_info": {
   "codemirror_mode": {
    "name": "ipython",
    "version": 3
   },
   "file_extension": ".py",
   "mimetype": "text/x-python",
   "name": "python",
   "nbconvert_exporter": "python",
   "pygments_lexer": "ipython3",
   "version": "3.10.5"
  }
 },
 "nbformat": 4,
 "nbformat_minor": 5
}
